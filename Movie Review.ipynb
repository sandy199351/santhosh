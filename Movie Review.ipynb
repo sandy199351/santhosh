{
 "cells": [
  {
   "cell_type": "markdown",
   "metadata": {},
   "source": [
    "TMDB Box Office Prediction\n",
    "\n",
    "In this dataset, you are provided with 7398 movies and a variety of metadata obtained from The Movie Database (TMDB). Movies are labeled with id. Data points include cast, crew, plot keywords, budget, posters, release dates, languages, production companies, and countries.\n",
    "\n",
    "You are predicting the worldwide revenue for 4398 movies in the test file.\n",
    "\n",
    "Note - many movies are remade over the years, therefore it may seem like multiple instance of a movie may appear in the data, however they are different and should be considered separate movies. In addition, some movies may share a title, but be entirely unrelated."
   ]
  },
  {
   "cell_type": "code",
   "execution_count": 1,
   "metadata": {},
   "outputs": [],
   "source": [
    "import pandas as pd\n",
    "import seaborn as sns\n",
    "import numpy as np\n",
    "from scipy import stats\n",
    "import matplotlib.pyplot as plt"
   ]
  },
  {
   "cell_type": "code",
   "execution_count": 2,
   "metadata": {},
   "outputs": [],
   "source": [
    "train= pd.read_csv(\"train.csv\")\n",
    "test=pd.read_csv(\"test.csv\")"
   ]
  },
  {
   "cell_type": "code",
   "execution_count": 3,
   "metadata": {},
   "outputs": [
    {
     "name": "stdout",
     "output_type": "stream",
     "text": [
      "(3000, 23)\n",
      "(4398, 22)\n"
     ]
    }
   ],
   "source": [
    "print(train.shape)\n",
    "print(test.shape)"
   ]
  },
  {
   "cell_type": "code",
   "execution_count": 4,
   "metadata": {},
   "outputs": [
    {
     "data": {
      "text/html": [
       "<div>\n",
       "<style scoped>\n",
       "    .dataframe tbody tr th:only-of-type {\n",
       "        vertical-align: middle;\n",
       "    }\n",
       "\n",
       "    .dataframe tbody tr th {\n",
       "        vertical-align: top;\n",
       "    }\n",
       "\n",
       "    .dataframe thead th {\n",
       "        text-align: right;\n",
       "    }\n",
       "</style>\n",
       "<table border=\"1\" class=\"dataframe\">\n",
       "  <thead>\n",
       "    <tr style=\"text-align: right;\">\n",
       "      <th></th>\n",
       "      <th>id</th>\n",
       "      <th>belongs_to_collection</th>\n",
       "      <th>budget</th>\n",
       "      <th>genres</th>\n",
       "      <th>homepage</th>\n",
       "      <th>imdb_id</th>\n",
       "      <th>original_language</th>\n",
       "      <th>original_title</th>\n",
       "      <th>overview</th>\n",
       "      <th>popularity</th>\n",
       "      <th>...</th>\n",
       "      <th>release_date</th>\n",
       "      <th>runtime</th>\n",
       "      <th>spoken_languages</th>\n",
       "      <th>status</th>\n",
       "      <th>tagline</th>\n",
       "      <th>title</th>\n",
       "      <th>Keywords</th>\n",
       "      <th>cast</th>\n",
       "      <th>crew</th>\n",
       "      <th>revenue</th>\n",
       "    </tr>\n",
       "  </thead>\n",
       "  <tbody>\n",
       "    <tr>\n",
       "      <td>0</td>\n",
       "      <td>1</td>\n",
       "      <td>[{'id': 313576, 'name': 'Hot Tub Time Machine ...</td>\n",
       "      <td>14000000</td>\n",
       "      <td>[{'id': 35, 'name': 'Comedy'}]</td>\n",
       "      <td>NaN</td>\n",
       "      <td>tt2637294</td>\n",
       "      <td>en</td>\n",
       "      <td>Hot Tub Time Machine 2</td>\n",
       "      <td>When Lou, who has become the \"father of the In...</td>\n",
       "      <td>6.575393</td>\n",
       "      <td>...</td>\n",
       "      <td>2/20/15</td>\n",
       "      <td>93.0</td>\n",
       "      <td>[{'iso_639_1': 'en', 'name': 'English'}]</td>\n",
       "      <td>Released</td>\n",
       "      <td>The Laws of Space and Time are About to be Vio...</td>\n",
       "      <td>Hot Tub Time Machine 2</td>\n",
       "      <td>[{'id': 4379, 'name': 'time travel'}, {'id': 9...</td>\n",
       "      <td>[{'cast_id': 4, 'character': 'Lou', 'credit_id...</td>\n",
       "      <td>[{'credit_id': '59ac067c92514107af02c8c8', 'de...</td>\n",
       "      <td>12314651</td>\n",
       "    </tr>\n",
       "    <tr>\n",
       "      <td>1</td>\n",
       "      <td>2</td>\n",
       "      <td>[{'id': 107674, 'name': 'The Princess Diaries ...</td>\n",
       "      <td>40000000</td>\n",
       "      <td>[{'id': 35, 'name': 'Comedy'}, {'id': 18, 'nam...</td>\n",
       "      <td>NaN</td>\n",
       "      <td>tt0368933</td>\n",
       "      <td>en</td>\n",
       "      <td>The Princess Diaries 2: Royal Engagement</td>\n",
       "      <td>Mia Thermopolis is now a college graduate and ...</td>\n",
       "      <td>8.248895</td>\n",
       "      <td>...</td>\n",
       "      <td>8/6/04</td>\n",
       "      <td>113.0</td>\n",
       "      <td>[{'iso_639_1': 'en', 'name': 'English'}]</td>\n",
       "      <td>Released</td>\n",
       "      <td>It can take a lifetime to find true love; she'...</td>\n",
       "      <td>The Princess Diaries 2: Royal Engagement</td>\n",
       "      <td>[{'id': 2505, 'name': 'coronation'}, {'id': 42...</td>\n",
       "      <td>[{'cast_id': 1, 'character': 'Mia Thermopolis'...</td>\n",
       "      <td>[{'credit_id': '52fe43fe9251416c7502563d', 'de...</td>\n",
       "      <td>95149435</td>\n",
       "    </tr>\n",
       "  </tbody>\n",
       "</table>\n",
       "<p>2 rows × 23 columns</p>\n",
       "</div>"
      ],
      "text/plain": [
       "   id                              belongs_to_collection    budget  \\\n",
       "0   1  [{'id': 313576, 'name': 'Hot Tub Time Machine ...  14000000   \n",
       "1   2  [{'id': 107674, 'name': 'The Princess Diaries ...  40000000   \n",
       "\n",
       "                                              genres homepage    imdb_id  \\\n",
       "0                     [{'id': 35, 'name': 'Comedy'}]      NaN  tt2637294   \n",
       "1  [{'id': 35, 'name': 'Comedy'}, {'id': 18, 'nam...      NaN  tt0368933   \n",
       "\n",
       "  original_language                            original_title  \\\n",
       "0                en                    Hot Tub Time Machine 2   \n",
       "1                en  The Princess Diaries 2: Royal Engagement   \n",
       "\n",
       "                                            overview  popularity  ...  \\\n",
       "0  When Lou, who has become the \"father of the In...    6.575393  ...   \n",
       "1  Mia Thermopolis is now a college graduate and ...    8.248895  ...   \n",
       "\n",
       "  release_date runtime                          spoken_languages    status  \\\n",
       "0      2/20/15    93.0  [{'iso_639_1': 'en', 'name': 'English'}]  Released   \n",
       "1       8/6/04   113.0  [{'iso_639_1': 'en', 'name': 'English'}]  Released   \n",
       "\n",
       "                                             tagline  \\\n",
       "0  The Laws of Space and Time are About to be Vio...   \n",
       "1  It can take a lifetime to find true love; she'...   \n",
       "\n",
       "                                      title  \\\n",
       "0                    Hot Tub Time Machine 2   \n",
       "1  The Princess Diaries 2: Royal Engagement   \n",
       "\n",
       "                                            Keywords  \\\n",
       "0  [{'id': 4379, 'name': 'time travel'}, {'id': 9...   \n",
       "1  [{'id': 2505, 'name': 'coronation'}, {'id': 42...   \n",
       "\n",
       "                                                cast  \\\n",
       "0  [{'cast_id': 4, 'character': 'Lou', 'credit_id...   \n",
       "1  [{'cast_id': 1, 'character': 'Mia Thermopolis'...   \n",
       "\n",
       "                                                crew   revenue  \n",
       "0  [{'credit_id': '59ac067c92514107af02c8c8', 'de...  12314651  \n",
       "1  [{'credit_id': '52fe43fe9251416c7502563d', 'de...  95149435  \n",
       "\n",
       "[2 rows x 23 columns]"
      ]
     },
     "execution_count": 4,
     "metadata": {},
     "output_type": "execute_result"
    }
   ],
   "source": [
    "train.head(2)\n"
   ]
  },
  {
   "cell_type": "markdown",
   "metadata": {},
   "source": [
    "Check Quality of data"
   ]
  },
  {
   "cell_type": "code",
   "execution_count": 5,
   "metadata": {},
   "outputs": [
    {
     "data": {
      "text/plain": [
       "Index(['belongs_to_collection', 'genres', 'homepage', 'overview',\n",
       "       'poster_path', 'production_companies', 'production_countries',\n",
       "       'runtime', 'spoken_languages', 'tagline', 'Keywords', 'cast', 'crew'],\n",
       "      dtype='object')"
      ]
     },
     "execution_count": 5,
     "metadata": {},
     "output_type": "execute_result"
    }
   ],
   "source": [
    "train.columns[train.isnull().any()]"
   ]
  },
  {
   "cell_type": "code",
   "execution_count": 6,
   "metadata": {},
   "outputs": [
    {
     "data": {
      "text/plain": [
       "id                         int64\n",
       "belongs_to_collection     object\n",
       "budget                     int64\n",
       "genres                    object\n",
       "homepage                  object\n",
       "imdb_id                   object\n",
       "original_language         object\n",
       "original_title            object\n",
       "overview                  object\n",
       "popularity               float64\n",
       "poster_path               object\n",
       "production_companies      object\n",
       "production_countries      object\n",
       "release_date              object\n",
       "runtime                  float64\n",
       "spoken_languages          object\n",
       "status                    object\n",
       "tagline                   object\n",
       "title                     object\n",
       "Keywords                  object\n",
       "cast                      object\n",
       "crew                      object\n",
       "revenue                    int64\n",
       "dtype: object"
      ]
     },
     "execution_count": 6,
     "metadata": {},
     "output_type": "execute_result"
    }
   ],
   "source": [
    "train.dtypes"
   ]
  },
  {
   "cell_type": "code",
   "execution_count": 7,
   "metadata": {},
   "outputs": [],
   "source": [
    "train.drop(columns=['homepage','original_title','overview','poster_path','production_countries'],inplace=True)\n",
    "train.drop(columns=['spoken_languages','tagline','Keywords'],inplace=True)"
   ]
  },
  {
   "cell_type": "code",
   "execution_count": 8,
   "metadata": {},
   "outputs": [
    {
     "data": {
      "text/html": [
       "<div>\n",
       "<style scoped>\n",
       "    .dataframe tbody tr th:only-of-type {\n",
       "        vertical-align: middle;\n",
       "    }\n",
       "\n",
       "    .dataframe tbody tr th {\n",
       "        vertical-align: top;\n",
       "    }\n",
       "\n",
       "    .dataframe thead th {\n",
       "        text-align: right;\n",
       "    }\n",
       "</style>\n",
       "<table border=\"1\" class=\"dataframe\">\n",
       "  <thead>\n",
       "    <tr style=\"text-align: right;\">\n",
       "      <th></th>\n",
       "      <th>id</th>\n",
       "      <th>belongs_to_collection</th>\n",
       "      <th>budget</th>\n",
       "      <th>genres</th>\n",
       "      <th>imdb_id</th>\n",
       "      <th>original_language</th>\n",
       "      <th>popularity</th>\n",
       "      <th>production_companies</th>\n",
       "      <th>release_date</th>\n",
       "      <th>runtime</th>\n",
       "      <th>status</th>\n",
       "      <th>title</th>\n",
       "      <th>cast</th>\n",
       "      <th>crew</th>\n",
       "      <th>revenue</th>\n",
       "    </tr>\n",
       "  </thead>\n",
       "  <tbody>\n",
       "    <tr>\n",
       "      <td>609</td>\n",
       "      <td>610</td>\n",
       "      <td>[{'id': 144200, 'name': 'Swan Princess Series'...</td>\n",
       "      <td>0</td>\n",
       "      <td>[{'id': 14, 'name': 'Fantasy'}, {'id': 16, 'na...</td>\n",
       "      <td>tt0120254</td>\n",
       "      <td>en</td>\n",
       "      <td>5.121309</td>\n",
       "      <td>NaN</td>\n",
       "      <td>1/1/97</td>\n",
       "      <td>71.0</td>\n",
       "      <td>Rumored</td>\n",
       "      <td>The Swan Princess: Escape from Castle Mountain</td>\n",
       "      <td>[{'cast_id': 2, 'character': 'Odette (voice)',...</td>\n",
       "      <td>[{'credit_id': '52fe488bc3a36847f816cfd3', 'de...</td>\n",
       "      <td>273644</td>\n",
       "    </tr>\n",
       "    <tr>\n",
       "      <td>1007</td>\n",
       "      <td>1008</td>\n",
       "      <td>NaN</td>\n",
       "      <td>0</td>\n",
       "      <td>[{'id': 35, 'name': 'Comedy'}]</td>\n",
       "      <td>tt1860180</td>\n",
       "      <td>en</td>\n",
       "      <td>0.007877</td>\n",
       "      <td>NaN</td>\n",
       "      <td>2/5/11</td>\n",
       "      <td>60.0</td>\n",
       "      <td>Rumored</td>\n",
       "      <td>Billy Gardell: Halftime</td>\n",
       "      <td>[{'cast_id': 9, 'character': 'Himself', 'credi...</td>\n",
       "      <td>[{'credit_id': '52fe4be1c3a368484e19d265', 'de...</td>\n",
       "      <td>60</td>\n",
       "    </tr>\n",
       "    <tr>\n",
       "      <td>1216</td>\n",
       "      <td>1217</td>\n",
       "      <td>NaN</td>\n",
       "      <td>0</td>\n",
       "      <td>[{'id': 18, 'name': 'Drama'}, {'id': 53, 'name...</td>\n",
       "      <td>tt0091024</td>\n",
       "      <td>en</td>\n",
       "      <td>10.273979</td>\n",
       "      <td>[{'name': 'Atlantic Entertainment Group', 'id'...</td>\n",
       "      <td>8/22/86</td>\n",
       "      <td>89.0</td>\n",
       "      <td>Rumored</td>\n",
       "      <td>Extremities</td>\n",
       "      <td>[{'cast_id': 1, 'character': 'Marjorie', 'cred...</td>\n",
       "      <td>[{'credit_id': '582cca1c925141780b00259f', 'de...</td>\n",
       "      <td>13418091</td>\n",
       "    </tr>\n",
       "    <tr>\n",
       "      <td>1618</td>\n",
       "      <td>1619</td>\n",
       "      <td>NaN</td>\n",
       "      <td>891000</td>\n",
       "      <td>[{'id': 99, 'name': 'Documentary'}]</td>\n",
       "      <td>tt0145394</td>\n",
       "      <td>en</td>\n",
       "      <td>0.179246</td>\n",
       "      <td>NaN</td>\n",
       "      <td>2/20/98</td>\n",
       "      <td>89.0</td>\n",
       "      <td>Rumored</td>\n",
       "      <td>A Place Called Chiapas</td>\n",
       "      <td>[{'cast_id': 1, 'character': 'Himself', 'credi...</td>\n",
       "      <td>[{'credit_id': '57b4f7619251417287000dfc', 'de...</td>\n",
       "      <td>229000</td>\n",
       "    </tr>\n",
       "  </tbody>\n",
       "</table>\n",
       "</div>"
      ],
      "text/plain": [
       "        id                              belongs_to_collection  budget  \\\n",
       "609    610  [{'id': 144200, 'name': 'Swan Princess Series'...       0   \n",
       "1007  1008                                                NaN       0   \n",
       "1216  1217                                                NaN       0   \n",
       "1618  1619                                                NaN  891000   \n",
       "\n",
       "                                                 genres    imdb_id  \\\n",
       "609   [{'id': 14, 'name': 'Fantasy'}, {'id': 16, 'na...  tt0120254   \n",
       "1007                     [{'id': 35, 'name': 'Comedy'}]  tt1860180   \n",
       "1216  [{'id': 18, 'name': 'Drama'}, {'id': 53, 'name...  tt0091024   \n",
       "1618                [{'id': 99, 'name': 'Documentary'}]  tt0145394   \n",
       "\n",
       "     original_language  popularity  \\\n",
       "609                 en    5.121309   \n",
       "1007                en    0.007877   \n",
       "1216                en   10.273979   \n",
       "1618                en    0.179246   \n",
       "\n",
       "                                   production_companies release_date  runtime  \\\n",
       "609                                                 NaN       1/1/97     71.0   \n",
       "1007                                                NaN       2/5/11     60.0   \n",
       "1216  [{'name': 'Atlantic Entertainment Group', 'id'...      8/22/86     89.0   \n",
       "1618                                                NaN      2/20/98     89.0   \n",
       "\n",
       "       status                                           title  \\\n",
       "609   Rumored  The Swan Princess: Escape from Castle Mountain   \n",
       "1007  Rumored                         Billy Gardell: Halftime   \n",
       "1216  Rumored                                     Extremities   \n",
       "1618  Rumored                          A Place Called Chiapas   \n",
       "\n",
       "                                                   cast  \\\n",
       "609   [{'cast_id': 2, 'character': 'Odette (voice)',...   \n",
       "1007  [{'cast_id': 9, 'character': 'Himself', 'credi...   \n",
       "1216  [{'cast_id': 1, 'character': 'Marjorie', 'cred...   \n",
       "1618  [{'cast_id': 1, 'character': 'Himself', 'credi...   \n",
       "\n",
       "                                                   crew   revenue  \n",
       "609   [{'credit_id': '52fe488bc3a36847f816cfd3', 'de...    273644  \n",
       "1007  [{'credit_id': '52fe4be1c3a368484e19d265', 'de...        60  \n",
       "1216  [{'credit_id': '582cca1c925141780b00259f', 'de...  13418091  \n",
       "1618  [{'credit_id': '57b4f7619251417287000dfc', 'de...    229000  "
      ]
     },
     "execution_count": 8,
     "metadata": {},
     "output_type": "execute_result"
    }
   ],
   "source": [
    "train[train['status']=='Rumored']"
   ]
  },
  {
   "cell_type": "code",
   "execution_count": 9,
   "metadata": {},
   "outputs": [],
   "source": [
    "train.drop([609,1007,1216,1618],inplace=True)"
   ]
  },
  {
   "cell_type": "code",
   "execution_count": 10,
   "metadata": {},
   "outputs": [
    {
     "data": {
      "text/plain": [
       "(0, 15)"
      ]
     },
     "execution_count": 10,
     "metadata": {},
     "output_type": "execute_result"
    }
   ],
   "source": [
    "train[train['status']=='Rumored'].shape"
   ]
  },
  {
   "cell_type": "code",
   "execution_count": 11,
   "metadata": {},
   "outputs": [],
   "source": [
    "train.drop(columns=['status'],inplace=True)"
   ]
  },
  {
   "cell_type": "code",
   "execution_count": 12,
   "metadata": {},
   "outputs": [
    {
     "data": {
      "text/html": [
       "<div>\n",
       "<style scoped>\n",
       "    .dataframe tbody tr th:only-of-type {\n",
       "        vertical-align: middle;\n",
       "    }\n",
       "\n",
       "    .dataframe tbody tr th {\n",
       "        vertical-align: top;\n",
       "    }\n",
       "\n",
       "    .dataframe thead th {\n",
       "        text-align: right;\n",
       "    }\n",
       "</style>\n",
       "<table border=\"1\" class=\"dataframe\">\n",
       "  <thead>\n",
       "    <tr style=\"text-align: right;\">\n",
       "      <th></th>\n",
       "      <th>id</th>\n",
       "      <th>belongs_to_collection</th>\n",
       "      <th>budget</th>\n",
       "      <th>genres</th>\n",
       "      <th>imdb_id</th>\n",
       "      <th>original_language</th>\n",
       "      <th>popularity</th>\n",
       "      <th>production_companies</th>\n",
       "      <th>release_date</th>\n",
       "      <th>runtime</th>\n",
       "      <th>title</th>\n",
       "      <th>cast</th>\n",
       "      <th>crew</th>\n",
       "      <th>revenue</th>\n",
       "    </tr>\n",
       "  </thead>\n",
       "  <tbody>\n",
       "    <tr>\n",
       "      <td>0</td>\n",
       "      <td>1</td>\n",
       "      <td>[{'id': 313576, 'name': 'Hot Tub Time Machine ...</td>\n",
       "      <td>14000000</td>\n",
       "      <td>[{'id': 35, 'name': 'Comedy'}]</td>\n",
       "      <td>tt2637294</td>\n",
       "      <td>en</td>\n",
       "      <td>6.575393</td>\n",
       "      <td>[{'name': 'Paramount Pictures', 'id': 4}, {'na...</td>\n",
       "      <td>2/20/15</td>\n",
       "      <td>93.0</td>\n",
       "      <td>Hot Tub Time Machine 2</td>\n",
       "      <td>[{'cast_id': 4, 'character': 'Lou', 'credit_id...</td>\n",
       "      <td>[{'credit_id': '59ac067c92514107af02c8c8', 'de...</td>\n",
       "      <td>12314651</td>\n",
       "    </tr>\n",
       "    <tr>\n",
       "      <td>1</td>\n",
       "      <td>2</td>\n",
       "      <td>[{'id': 107674, 'name': 'The Princess Diaries ...</td>\n",
       "      <td>40000000</td>\n",
       "      <td>[{'id': 35, 'name': 'Comedy'}, {'id': 18, 'nam...</td>\n",
       "      <td>tt0368933</td>\n",
       "      <td>en</td>\n",
       "      <td>8.248895</td>\n",
       "      <td>[{'name': 'Walt Disney Pictures', 'id': 2}]</td>\n",
       "      <td>8/6/04</td>\n",
       "      <td>113.0</td>\n",
       "      <td>The Princess Diaries 2: Royal Engagement</td>\n",
       "      <td>[{'cast_id': 1, 'character': 'Mia Thermopolis'...</td>\n",
       "      <td>[{'credit_id': '52fe43fe9251416c7502563d', 'de...</td>\n",
       "      <td>95149435</td>\n",
       "    </tr>\n",
       "    <tr>\n",
       "      <td>2</td>\n",
       "      <td>3</td>\n",
       "      <td>NaN</td>\n",
       "      <td>3300000</td>\n",
       "      <td>[{'id': 18, 'name': 'Drama'}]</td>\n",
       "      <td>tt2582802</td>\n",
       "      <td>en</td>\n",
       "      <td>64.299990</td>\n",
       "      <td>[{'name': 'Bold Films', 'id': 2266}, {'name': ...</td>\n",
       "      <td>10/10/14</td>\n",
       "      <td>105.0</td>\n",
       "      <td>Whiplash</td>\n",
       "      <td>[{'cast_id': 5, 'character': 'Andrew Neimann',...</td>\n",
       "      <td>[{'credit_id': '54d5356ec3a3683ba0000039', 'de...</td>\n",
       "      <td>13092000</td>\n",
       "    </tr>\n",
       "    <tr>\n",
       "      <td>3</td>\n",
       "      <td>4</td>\n",
       "      <td>NaN</td>\n",
       "      <td>1200000</td>\n",
       "      <td>[{'id': 53, 'name': 'Thriller'}, {'id': 18, 'n...</td>\n",
       "      <td>tt1821480</td>\n",
       "      <td>hi</td>\n",
       "      <td>3.174936</td>\n",
       "      <td>NaN</td>\n",
       "      <td>3/9/12</td>\n",
       "      <td>122.0</td>\n",
       "      <td>Kahaani</td>\n",
       "      <td>[{'cast_id': 1, 'character': 'Vidya Bagchi', '...</td>\n",
       "      <td>[{'credit_id': '52fe48779251416c9108d6eb', 'de...</td>\n",
       "      <td>16000000</td>\n",
       "    </tr>\n",
       "    <tr>\n",
       "      <td>4</td>\n",
       "      <td>5</td>\n",
       "      <td>NaN</td>\n",
       "      <td>0</td>\n",
       "      <td>[{'id': 28, 'name': 'Action'}, {'id': 53, 'nam...</td>\n",
       "      <td>tt1380152</td>\n",
       "      <td>ko</td>\n",
       "      <td>1.148070</td>\n",
       "      <td>NaN</td>\n",
       "      <td>2/5/09</td>\n",
       "      <td>118.0</td>\n",
       "      <td>Marine Boy</td>\n",
       "      <td>[{'cast_id': 3, 'character': 'Chun-soo', 'cred...</td>\n",
       "      <td>[{'credit_id': '52fe464b9251416c75073b43', 'de...</td>\n",
       "      <td>3923970</td>\n",
       "    </tr>\n",
       "  </tbody>\n",
       "</table>\n",
       "</div>"
      ],
      "text/plain": [
       "   id                              belongs_to_collection    budget  \\\n",
       "0   1  [{'id': 313576, 'name': 'Hot Tub Time Machine ...  14000000   \n",
       "1   2  [{'id': 107674, 'name': 'The Princess Diaries ...  40000000   \n",
       "2   3                                                NaN   3300000   \n",
       "3   4                                                NaN   1200000   \n",
       "4   5                                                NaN         0   \n",
       "\n",
       "                                              genres    imdb_id  \\\n",
       "0                     [{'id': 35, 'name': 'Comedy'}]  tt2637294   \n",
       "1  [{'id': 35, 'name': 'Comedy'}, {'id': 18, 'nam...  tt0368933   \n",
       "2                      [{'id': 18, 'name': 'Drama'}]  tt2582802   \n",
       "3  [{'id': 53, 'name': 'Thriller'}, {'id': 18, 'n...  tt1821480   \n",
       "4  [{'id': 28, 'name': 'Action'}, {'id': 53, 'nam...  tt1380152   \n",
       "\n",
       "  original_language  popularity  \\\n",
       "0                en    6.575393   \n",
       "1                en    8.248895   \n",
       "2                en   64.299990   \n",
       "3                hi    3.174936   \n",
       "4                ko    1.148070   \n",
       "\n",
       "                                production_companies release_date  runtime  \\\n",
       "0  [{'name': 'Paramount Pictures', 'id': 4}, {'na...      2/20/15     93.0   \n",
       "1        [{'name': 'Walt Disney Pictures', 'id': 2}]       8/6/04    113.0   \n",
       "2  [{'name': 'Bold Films', 'id': 2266}, {'name': ...     10/10/14    105.0   \n",
       "3                                                NaN       3/9/12    122.0   \n",
       "4                                                NaN       2/5/09    118.0   \n",
       "\n",
       "                                      title  \\\n",
       "0                    Hot Tub Time Machine 2   \n",
       "1  The Princess Diaries 2: Royal Engagement   \n",
       "2                                  Whiplash   \n",
       "3                                   Kahaani   \n",
       "4                                Marine Boy   \n",
       "\n",
       "                                                cast  \\\n",
       "0  [{'cast_id': 4, 'character': 'Lou', 'credit_id...   \n",
       "1  [{'cast_id': 1, 'character': 'Mia Thermopolis'...   \n",
       "2  [{'cast_id': 5, 'character': 'Andrew Neimann',...   \n",
       "3  [{'cast_id': 1, 'character': 'Vidya Bagchi', '...   \n",
       "4  [{'cast_id': 3, 'character': 'Chun-soo', 'cred...   \n",
       "\n",
       "                                                crew   revenue  \n",
       "0  [{'credit_id': '59ac067c92514107af02c8c8', 'de...  12314651  \n",
       "1  [{'credit_id': '52fe43fe9251416c7502563d', 'de...  95149435  \n",
       "2  [{'credit_id': '54d5356ec3a3683ba0000039', 'de...  13092000  \n",
       "3  [{'credit_id': '52fe48779251416c9108d6eb', 'de...  16000000  \n",
       "4  [{'credit_id': '52fe464b9251416c75073b43', 'de...   3923970  "
      ]
     },
     "execution_count": 12,
     "metadata": {},
     "output_type": "execute_result"
    }
   ],
   "source": [
    "train.head()"
   ]
  },
  {
   "cell_type": "code",
   "execution_count": 13,
   "metadata": {},
   "outputs": [
    {
     "data": {
      "text/plain": [
       "Index(['belongs_to_collection', 'genres', 'production_companies', 'runtime',\n",
       "       'cast', 'crew'],\n",
       "      dtype='object')"
      ]
     },
     "execution_count": 13,
     "metadata": {},
     "output_type": "execute_result"
    }
   ],
   "source": [
    "train.columns[train.isnull().any()]"
   ]
  },
  {
   "cell_type": "code",
   "execution_count": 14,
   "metadata": {},
   "outputs": [],
   "source": [
    "numeric_cols = ['id','budget','popularity','runtime','revenue']\n",
    "categorical_cols = ['original_language']\n",
    "object_cols = ['belongs_to_collection','genres','production_companies','title','cast','crew','imdb_id','release_date',]"
   ]
  },
  {
   "cell_type": "raw",
   "metadata": {},
   "source": [
    "*******UNIVARIATE ANALYSIS********"
   ]
  },
  {
   "cell_type": "raw",
   "metadata": {},
   "source": [
    "NUMERICAL COLUMNS"
   ]
  },
  {
   "cell_type": "code",
   "execution_count": 15,
   "metadata": {},
   "outputs": [
    {
     "data": {
      "text/plain": [
       "(2996, 14)"
      ]
     },
     "execution_count": 15,
     "metadata": {},
     "output_type": "execute_result"
    }
   ],
   "source": [
    "train.shape"
   ]
  },
  {
   "cell_type": "code",
   "execution_count": 16,
   "metadata": {},
   "outputs": [
    {
     "data": {
      "text/plain": [
       "-0.0013552136805656289"
      ]
     },
     "execution_count": 16,
     "metadata": {},
     "output_type": "execute_result"
    },
    {
     "data": {
      "image/png": "[encoded data removed]",
      "text/plain": [
       "<Figure size 432x288 with 1 Axes>"
      ]
     },
     "metadata": {
      "needs_background": "light"
     },
     "output_type": "display_data"
    }
   ],
   "source": [
    "sns.distplot(train[\"id\"])\n",
    "train['id'].skew()"
   ]
  },
  {
   "cell_type": "code",
   "execution_count": 17,
   "metadata": {},
   "outputs": [],
   "source": [
    "#train['belongs_to_collection'].unique()"
   ]
  },
  {
   "cell_type": "code",
   "execution_count": 18,
   "metadata": {},
   "outputs": [
    {
     "data": {
      "text/plain": [
       "(2393, 14)"
      ]
     },
     "execution_count": 18,
     "metadata": {},
     "output_type": "execute_result"
    }
   ],
   "source": [
    "train[(train['belongs_to_collection'].isnull())].shape"
   ]
  },
  {
   "cell_type": "code",
   "execution_count": 19,
   "metadata": {},
   "outputs": [],
   "source": [
    "train['belongs_to_collection'].fillna(0,inplace=True)"
   ]
  },
  {
   "cell_type": "code",
   "execution_count": 20,
   "metadata": {},
   "outputs": [
    {
     "data": {
      "text/plain": [
       "(0, 14)"
      ]
     },
     "execution_count": 20,
     "metadata": {},
     "output_type": "execute_result"
    }
   ],
   "source": [
    "train[(train['belongs_to_collection'].isnull()) & (train['budget'] ==0)].shape"
   ]
  },
  {
   "cell_type": "code",
   "execution_count": 21,
   "metadata": {},
   "outputs": [],
   "source": [
    "train.loc[train['id'] == 1865,'revenue'] = 25000000  \n",
    "train.loc[train['id'] == 313,'revenue'] = 12000000       \n",
    "train.loc[train['id'] == 451,'revenue'] = 12000000 \n",
    "train.loc[train['id'] == 16,'revenue'] = 192864         \n",
    "train.loc[train['id'] == 90,'budget'] = 30000000                  \n",
    "train.loc[train['id'] == 118,'budget'] = 60000000       \n",
    "train.loc[train['id'] == 149,'budget'] = 18000000          \n",
    "train.loc[train['id'] == 464,'budget'] = 20000000       \n",
    "train.loc[train['id'] == 470,'budget'] = 13000000       \n",
    "train.loc[train['id'] == 513,'budget'] = 930000         \n",
    "train.loc[train['id'] == 797,'budget'] = 8000000        \n",
    "train.loc[train['id'] == 819,'budget'] = 90000000       \n",
    "train.loc[train['id'] == 850,'budget'] = 90000000       \n",
    "train.loc[train['id'] == 1007,'budget'] = 2              \n",
    "train.loc[train['id'] == 1112,'budget'] = 7500000       \n",
    "train.loc[train['id'] == 1131,'budget'] = 4300000        \n",
    "train.loc[train['id'] == 1359,'budget'] = 10000000       \n",
    "train.loc[train['id'] == 1542,'budget'] = 1             \n",
    "train.loc[train['id'] == 1570,'budget'] = 15800000       \n",
    "train.loc[train['id'] == 1571,'budget'] = 4000000        \n",
    "train.loc[train['id'] == 1714,'budget'] = 46000000       \n",
    "train.loc[train['id'] == 1721,'budget'] = 17500000       \n",
    "train.loc[train['id'] == 1885,'budget'] = 12             \n",
    "train.loc[train['id'] == 2091,'budget'] = 10             \n",
    "train.loc[train['id'] == 2268,'budget'] = 17500000       \n",
    "train.loc[train['id'] == 2491,'budget'] = 6              \n",
    "train.loc[train['id'] == 2602,'budget'] = 31000000       \n",
    "train.loc[train['id'] == 2612,'budget'] = 15000000       \n",
    "train.loc[train['id'] == 2696,'budget'] = 10000000      \n",
    "train.loc[train['id'] == 2801,'budget'] = 10000000       \n",
    "train.loc[train['id'] == 335,'budget'] = 2 \n",
    "train.loc[train['id'] == 348,'budget'] = 12\n",
    "train.loc[train['id'] == 470,'budget'] = 13000000 \n",
    "train.loc[train['id'] == 513,'budget'] = 1100000\n",
    "train.loc[train['id'] == 640,'budget'] = 6 \n",
    "train.loc[train['id'] == 696,'budget'] = 1\n",
    "train.loc[train['id'] == 797,'budget'] = 8000000 \n",
    "train.loc[train['id'] == 850,'budget'] = 1500000\n",
    "train.loc[train['id'] == 1199,'budget'] = 5 \n",
    "train.loc[train['id'] == 1282,'budget'] = 9              \n",
    "train.loc[train['id'] == 1347,'budget'] = 1\n",
    "train.loc[train['id'] == 1755,'budget'] = 2\n",
    "train.loc[train['id'] == 1801,'budget'] = 5\n",
    "train.loc[train['id'] == 1918,'budget'] = 592 \n",
    "train.loc[train['id'] == 2033,'budget'] = 4\n",
    "train.loc[train['id'] == 2118,'budget'] = 344 \n",
    "train.loc[train['id'] == 2252,'budget'] = 130\n",
    "train.loc[train['id'] == 2256,'budget'] = 1 \n",
    "train.loc[train['id'] == 2696,'budget'] = 10000000"
   ]
  },
  {
   "cell_type": "code",
   "execution_count": 22,
   "metadata": {},
   "outputs": [],
   "source": [
    "#for i, e in enumerate(train['belongs_to_collection'][:2]):\n",
    "#print(i, e)"
   ]
  },
  {
   "cell_type": "code",
   "execution_count": 23,
   "metadata": {},
   "outputs": [
    {
     "data": {
      "text/plain": [
       "3.0944127853291667"
      ]
     },
     "execution_count": 23,
     "metadata": {},
     "output_type": "execute_result"
    },
    {
     "data": {
      "image/png": "[encoded data removed]",
      "text/plain": [
       "<Figure size 432x288 with 1 Axes>"
      ]
     },
     "metadata": {
      "needs_background": "light"
     },
     "output_type": "display_data"
    }
   ],
   "source": [
    "sns.distplot(train[\"budget\"])\n",
    "train['budget'].skew()"
   ]
  },
  {
   "cell_type": "code",
   "execution_count": 24,
   "metadata": {},
   "outputs": [
    {
     "data": {
      "text/plain": [
       "array([ 14000000,  40000000,   3300000,   1200000,         0,   8000000,\n",
       "         6000000,   1000000,  15000000,  53000000, 102000000,    500000,\n",
       "        26000000,  32000000,  80000000,   4000000,  10000000,  11000000,\n",
       "        45000000,  13000000,  90000000, 140000000,  30000000,  50000000,\n",
       "         3800000,   3000000,  25000000,   3906840,  44000000,  38000000,\n",
       "          560000,  12000000,  20000000, 125000000, 150000000,   5000000,\n",
       "         1500000,   2000000,  85000000,  29000000,    445000,  17000000,\n",
       "        10284523,  43000000,  28000000,   7500000,  35000000,   2500000,\n",
       "        10500000,   7000000,  60000000,  10900000,  31000000,  72000000,\n",
       "        75000000, 100000000,  93000000,  12716953,  18000000,   2400000,\n",
       "        65000000,   9000000, 110000000,  14320000,   3500000,  39200000,\n",
       "        63600000,    125000,  19000000,  12468389,  82500000,    259000,\n",
       "       180000000,   4500000,  24000000,  12600000,  55000000,   3200000,\n",
       "        22000000,   6700000,   2600000,  49000000,   6244087,    800000,\n",
       "        70000000,  23000000,  18339750,   7920000,  12560000,  98000000,\n",
       "         8500000,     11178,   9500000,     24554,     27000,  21000000,\n",
       "        72500000,   2915739,  16000000, 160000000,    225000, 108000000,\n",
       "       175000000, 115000000, 135000000,  71000000,         2,  27000000,\n",
       "        36000000,        12,    350000,   7200000,  20500000, 130000000,\n",
       "         2200000,  15400000,      7000,  13100000,  74500000,   6843500,\n",
       "         7075038,  18500000,  87000000,   3750000,   2900000,    810000,\n",
       "        57000000,    762241,  10300000,   1288000,    250000,  16500000,\n",
       "        48000000,  13500000,    590235,   2800000,     60000,   6500000,\n",
       "          910000,   1100000, 149000000,  62000000,  78146652,   4100000,\n",
       "         6900000,  79000000,   5800000,  14500000,   2700000,  10400000,\n",
       "           90000,   5500000,    100000,    700000,   8575000,    300000,\n",
       "               6,  39000000,     20000,  11500000,  54000000, 250000000,\n",
       "         6300000,   2650000,   6400000,   4200000,   1271000, 113000000,\n",
       "               1,   2053648,   9250000, 103000000,   8250000,    967686,\n",
       "           50000, 200000000, 105000000,  22500000,   1601792,  94000000,\n",
       "         1300000,  42000000,  33000000,    886000,   3860000,  10721568,\n",
       "          355000,   2196531,  59000000,   9750000,    151000,  88000000,\n",
       "         7700000,  37000000, 185000000,   9600000,    940000, 195000000,\n",
       "          143149, 163000000,    558000,  25530000,    609000,   6788000,\n",
       "        73000000,   9200000,    137731,   1800000,    280379,  56000000,\n",
       "        68000000,  58000000,  95000000,   5600000, 220000000,   4300000,\n",
       "         3537415,    878000,   3400000,   1250000,   3250000,    747000,\n",
       "         1119000,         5,     65000,  52000000,   1750000,     15000,\n",
       "        13800000,  11800000, 225000000,    802000, 260000000,    120000,\n",
       "          230000,         9,   1700000,  10700000,  61000000,   3900000,\n",
       "          722083, 120000000,     25000,   5700000,    325000,   2883848,\n",
       "       116000000, 165000000, 190000000, 270000000,  46000000,    645180,\n",
       "         5200000,   2410000,   4361898,    950000,    210000,   3705538,\n",
       "         1752000,    650000,    777000,    850000,   4798235, 145000000,\n",
       "        17500000,  27220000,  15800000,   9100000,    450000,  44500000,\n",
       "         4520000,    662141,    400000,   4600000,   1400000,  12500000,\n",
       "          360000,  16400000,   1900000,    180000,   2153912,  41000000,\n",
       "          521873,  34000000,   3837625, 152000000,   3347850,   4437508,\n",
       "        63000000,    750000,  17820000,    290000,  13400000,   1070000,\n",
       "        14600000,  97000000,   2159280,  10831173,  13360000,      2500,\n",
       "         3230939, 170000000,   1549000,   3700000,  19800000, 210000000,\n",
       "         2300000,     12000,       592,  31115000,  26400000,  83000000,\n",
       "          855000,   5952000,  11715578,   1379375,  67000000,   1114000,\n",
       "         3196621,    440141,         4, 207000000,   2627000,    134000,\n",
       "         1243000,        10,    550000,    134005,   9900000,    531374,\n",
       "             344, 380000000,   3500159,    600000,    658000,   5300000,\n",
       "        47000000,     74050,   1688000, 300000000,   8272296,   8700000,\n",
       "          200000,   2160000,  19500000,       130,  12823507,   2380000,\n",
       "         1227401,  12156348,   1805000,   6200000,   8376800,   1821052,\n",
       "       132000000,   1202007,  23600000,    135000,   4317946,   6600000,\n",
       "        32745300,  97250400,   3600000,  21500000,    103000,   7400000,\n",
       "         1350000,    475000,      5000, 197471676,    852510,   1455000,\n",
       "        41300000,   4900000,  12250000,    463455,   8045760, 245000000,\n",
       "        92000000,    784170,   1089360,   1556288, 280000000,  82000000,\n",
       "            7300,     17000,  14734000,    220000,  11930000,    150000,\n",
       "        16800000,      6000,  49300000,   5400000,   3062000,    410000,\n",
       "         5579750,   3512454, 127500000,   1365000,  64000000,  31500000,\n",
       "          483103,  37665000,   1135654], dtype=int64)"
      ]
     },
     "execution_count": 24,
     "metadata": {},
     "output_type": "execute_result"
    }
   ],
   "source": [
    "train['budget'].unique()"
   ]
  },
  {
   "cell_type": "code",
   "execution_count": 25,
   "metadata": {},
   "outputs": [
    {
     "data": {
      "text/plain": [
       "(793, 14)"
      ]
     },
     "execution_count": 25,
     "metadata": {},
     "output_type": "execute_result"
    }
   ],
   "source": [
    "train[(train['budget']==0)].shape"
   ]
  },
  {
   "cell_type": "code",
   "execution_count": 26,
   "metadata": {},
   "outputs": [
    {
     "data": {
      "text/html": [
       "<div>\n",
       "<style scoped>\n",
       "    .dataframe tbody tr th:only-of-type {\n",
       "        vertical-align: middle;\n",
       "    }\n",
       "\n",
       "    .dataframe tbody tr th {\n",
       "        vertical-align: top;\n",
       "    }\n",
       "\n",
       "    .dataframe thead th {\n",
       "        text-align: right;\n",
       "    }\n",
       "</style>\n",
       "<table border=\"1\" class=\"dataframe\">\n",
       "  <thead>\n",
       "    <tr style=\"text-align: right;\">\n",
       "      <th></th>\n",
       "      <th>id</th>\n",
       "      <th>belongs_to_collection</th>\n",
       "      <th>budget</th>\n",
       "      <th>genres</th>\n",
       "      <th>imdb_id</th>\n",
       "      <th>original_language</th>\n",
       "      <th>popularity</th>\n",
       "      <th>production_companies</th>\n",
       "      <th>release_date</th>\n",
       "      <th>runtime</th>\n",
       "      <th>title</th>\n",
       "      <th>cast</th>\n",
       "      <th>crew</th>\n",
       "      <th>revenue</th>\n",
       "    </tr>\n",
       "  </thead>\n",
       "  <tbody>\n",
       "    <tr>\n",
       "      <td>4</td>\n",
       "      <td>5</td>\n",
       "      <td>0</td>\n",
       "      <td>0</td>\n",
       "      <td>[{'id': 28, 'name': 'Action'}, {'id': 53, 'nam...</td>\n",
       "      <td>tt1380152</td>\n",
       "      <td>ko</td>\n",
       "      <td>1.148070</td>\n",
       "      <td>NaN</td>\n",
       "      <td>2/5/09</td>\n",
       "      <td>118.0</td>\n",
       "      <td>Marine Boy</td>\n",
       "      <td>[{'cast_id': 3, 'character': 'Chun-soo', 'cred...</td>\n",
       "      <td>[{'credit_id': '52fe464b9251416c75073b43', 'de...</td>\n",
       "      <td>3923970</td>\n",
       "    </tr>\n",
       "    <tr>\n",
       "      <td>7</td>\n",
       "      <td>8</td>\n",
       "      <td>0</td>\n",
       "      <td>0</td>\n",
       "      <td>[{'id': 99, 'name': 'Documentary'}]</td>\n",
       "      <td>tt0391024</td>\n",
       "      <td>en</td>\n",
       "      <td>1.949044</td>\n",
       "      <td>NaN</td>\n",
       "      <td>1/15/04</td>\n",
       "      <td>84.0</td>\n",
       "      <td>Control Room</td>\n",
       "      <td>[{'cast_id': 2, 'character': 'Himself', 'credi...</td>\n",
       "      <td>[{'credit_id': '52fe47a69251416c750a0daf', 'de...</td>\n",
       "      <td>2586511</td>\n",
       "    </tr>\n",
       "    <tr>\n",
       "      <td>8</td>\n",
       "      <td>9</td>\n",
       "      <td>[{'id': 256377, 'name': 'The Muppet Collection...</td>\n",
       "      <td>0</td>\n",
       "      <td>[{'id': 28, 'name': 'Action'}, {'id': 35, 'nam...</td>\n",
       "      <td>tt0117110</td>\n",
       "      <td>en</td>\n",
       "      <td>6.902423</td>\n",
       "      <td>[{'name': 'Walt Disney Pictures', 'id': 2}, {'...</td>\n",
       "      <td>2/16/96</td>\n",
       "      <td>100.0</td>\n",
       "      <td>Muppet Treasure Island</td>\n",
       "      <td>[{'cast_id': 1, 'character': 'Long John Silver...</td>\n",
       "      <td>[{'credit_id': '52fe43c89251416c7501deb3', 'de...</td>\n",
       "      <td>34327391</td>\n",
       "    </tr>\n",
       "    <tr>\n",
       "      <td>11</td>\n",
       "      <td>12</td>\n",
       "      <td>[{'id': 48190, 'name': 'Revenge of the Nerds C...</td>\n",
       "      <td>0</td>\n",
       "      <td>[{'id': 35, 'name': 'Comedy'}]</td>\n",
       "      <td>tt0093857</td>\n",
       "      <td>en</td>\n",
       "      <td>10.543750</td>\n",
       "      <td>[{'name': 'Twentieth Century Fox Film Corporat...</td>\n",
       "      <td>7/10/87</td>\n",
       "      <td>98.0</td>\n",
       "      <td>Revenge of the Nerds II: Nerds in Paradise</td>\n",
       "      <td>[{'cast_id': 2, 'character': 'Lewis Skolnick',...</td>\n",
       "      <td>[{'credit_id': '52fe46f49251416c750891e9', 'de...</td>\n",
       "      <td>22642033</td>\n",
       "    </tr>\n",
       "    <tr>\n",
       "      <td>17</td>\n",
       "      <td>18</td>\n",
       "      <td>0</td>\n",
       "      <td>0</td>\n",
       "      <td>[{'id': 18, 'name': 'Drama'}, {'id': 10749, 'n...</td>\n",
       "      <td>tt1700845</td>\n",
       "      <td>en</td>\n",
       "      <td>4.183558</td>\n",
       "      <td>[{'name': 'BBC Films', 'id': 288}, {'name': 'H...</td>\n",
       "      <td>12/25/13</td>\n",
       "      <td>111.0</td>\n",
       "      <td>The Invisible Woman</td>\n",
       "      <td>[{'cast_id': 7, 'character': 'Charles Dickens'...</td>\n",
       "      <td>[{'credit_id': '53b94a260e0a2676c7009b37', 'de...</td>\n",
       "      <td>1234254</td>\n",
       "    </tr>\n",
       "  </tbody>\n",
       "</table>\n",
       "</div>"
      ],
      "text/plain": [
       "    id                              belongs_to_collection  budget  \\\n",
       "4    5                                                  0       0   \n",
       "7    8                                                  0       0   \n",
       "8    9  [{'id': 256377, 'name': 'The Muppet Collection...       0   \n",
       "11  12  [{'id': 48190, 'name': 'Revenge of the Nerds C...       0   \n",
       "17  18                                                  0       0   \n",
       "\n",
       "                                               genres    imdb_id  \\\n",
       "4   [{'id': 28, 'name': 'Action'}, {'id': 53, 'nam...  tt1380152   \n",
       "7                 [{'id': 99, 'name': 'Documentary'}]  tt0391024   \n",
       "8   [{'id': 28, 'name': 'Action'}, {'id': 35, 'nam...  tt0117110   \n",
       "11                     [{'id': 35, 'name': 'Comedy'}]  tt0093857   \n",
       "17  [{'id': 18, 'name': 'Drama'}, {'id': 10749, 'n...  tt1700845   \n",
       "\n",
       "   original_language  popularity  \\\n",
       "4                 ko    1.148070   \n",
       "7                 en    1.949044   \n",
       "8                 en    6.902423   \n",
       "11                en   10.543750   \n",
       "17                en    4.183558   \n",
       "\n",
       "                                 production_companies release_date  runtime  \\\n",
       "4                                                 NaN       2/5/09    118.0   \n",
       "7                                                 NaN      1/15/04     84.0   \n",
       "8   [{'name': 'Walt Disney Pictures', 'id': 2}, {'...      2/16/96    100.0   \n",
       "11  [{'name': 'Twentieth Century Fox Film Corporat...      7/10/87     98.0   \n",
       "17  [{'name': 'BBC Films', 'id': 288}, {'name': 'H...     12/25/13    111.0   \n",
       "\n",
       "                                         title  \\\n",
       "4                                   Marine Boy   \n",
       "7                                 Control Room   \n",
       "8                       Muppet Treasure Island   \n",
       "11  Revenge of the Nerds II: Nerds in Paradise   \n",
       "17                         The Invisible Woman   \n",
       "\n",
       "                                                 cast  \\\n",
       "4   [{'cast_id': 3, 'character': 'Chun-soo', 'cred...   \n",
       "7   [{'cast_id': 2, 'character': 'Himself', 'credi...   \n",
       "8   [{'cast_id': 1, 'character': 'Long John Silver...   \n",
       "11  [{'cast_id': 2, 'character': 'Lewis Skolnick',...   \n",
       "17  [{'cast_id': 7, 'character': 'Charles Dickens'...   \n",
       "\n",
       "                                                 crew   revenue  \n",
       "4   [{'credit_id': '52fe464b9251416c75073b43', 'de...   3923970  \n",
       "7   [{'credit_id': '52fe47a69251416c750a0daf', 'de...   2586511  \n",
       "8   [{'credit_id': '52fe43c89251416c7501deb3', 'de...  34327391  \n",
       "11  [{'credit_id': '52fe46f49251416c750891e9', 'de...  22642033  \n",
       "17  [{'credit_id': '53b94a260e0a2676c7009b37', 'de...   1234254  "
      ]
     },
     "execution_count": 26,
     "metadata": {},
     "output_type": "execute_result"
    }
   ],
   "source": [
    "train[(train['budget']==0)].head()"
   ]
  },
  {
   "cell_type": "code",
   "execution_count": 27,
   "metadata": {},
   "outputs": [
    {
     "data": {
      "text/plain": [
       "(809, 14)"
      ]
     },
     "execution_count": 27,
     "metadata": {},
     "output_type": "execute_result"
    }
   ],
   "source": [
    "train[(train['budget']<13)].shape"
   ]
  },
  {
   "cell_type": "code",
   "execution_count": 28,
   "metadata": {},
   "outputs": [
    {
     "data": {
      "text/plain": [
       "array([ 6.575393,  8.248895, 64.29999 , ..., 14.482345, 15.725542,\n",
       "       10.512109])"
      ]
     },
     "execution_count": 28,
     "metadata": {},
     "output_type": "execute_result"
    }
   ],
   "source": [
    "train['popularity'].unique()"
   ]
  },
  {
   "cell_type": "code",
   "execution_count": 29,
   "metadata": {},
   "outputs": [
    {
     "data": {
      "text/plain": [
       "14.374133463932882"
      ]
     },
     "execution_count": 29,
     "metadata": {},
     "output_type": "execute_result"
    },
    {
     "data": {
      "image/png": "[encoded data removed]",
      "text/plain": [
       "<Figure size 432x288 with 1 Axes>"
      ]
     },
     "metadata": {
      "needs_background": "light"
     },
     "output_type": "display_data"
    }
   ],
   "source": [
    "sns.distplot(train[\"popularity\"])\n",
    "train['popularity'].skew()"
   ]
  },
  {
   "cell_type": "code",
   "execution_count": 30,
   "metadata": {},
   "outputs": [],
   "source": [
    "train['popularity']=train['popularity'].astype(int)"
   ]
  },
  {
   "cell_type": "code",
   "execution_count": 31,
   "metadata": {},
   "outputs": [
    {
     "data": {
      "text/plain": [
       "array([  6,   8,  64,   3,   1,   0,   7,   4,  14,  10,  20,  13,  11,\n",
       "        12,  16,   5,   9,   2,  17,  23,  25,  18,  32,  19,  21,  15,\n",
       "        28,  26,  27, 294,  29,  30, 287,  24,  49,  41,  89,  39, 154,\n",
       "        37,  22,  33, 123, 228, 146,  54,  51,  53,  47, 185,  31,  88,\n",
       "       187,  63,  34,  36,  42], dtype=int64)"
      ]
     },
     "execution_count": 31,
     "metadata": {},
     "output_type": "execute_result"
    }
   ],
   "source": [
    "train['popularity'].unique()"
   ]
  },
  {
   "cell_type": "code",
   "execution_count": 32,
   "metadata": {},
   "outputs": [
    {
     "data": {
      "text/plain": [
       "id                         0\n",
       "belongs_to_collection      0\n",
       "budget                     0\n",
       "genres                     7\n",
       "imdb_id                    0\n",
       "original_language          0\n",
       "popularity                 0\n",
       "production_companies     153\n",
       "release_date               0\n",
       "runtime                    2\n",
       "title                      0\n",
       "cast                      13\n",
       "crew                      16\n",
       "revenue                    0\n",
       "dtype: int64"
      ]
     },
     "execution_count": 32,
     "metadata": {},
     "output_type": "execute_result"
    }
   ],
   "source": [
    "train.isnull().sum()"
   ]
  },
  {
   "cell_type": "code",
   "execution_count": 33,
   "metadata": {},
   "outputs": [
    {
     "data": {
      "text/plain": [
       "array([ 93., 113., 105., 122., 118.,  83.,  92.,  84., 100.,  91., 119.,\n",
       "        98., 145.,  97.,  85., 111.,  96.,  87., 130.,  95., 116., 110.,\n",
       "        89., 112., 117., 106., 125.,  94., 127.,  90., 123., 126., 108.,\n",
       "        88., 167., 102., 160., 107., 144., 124., 115., 133., 129., 104.,\n",
       "       103., 157., 109., 135., 147.,  72., 158., 120., 121., 177., 189.,\n",
       "       178.,  86.,  79., 176., 101.,  99.,  74., 141.,  65., 136., 143.,\n",
       "       132.,  53., 139., 114., 140., 156., 148., 137., 168., 154.,  77.,\n",
       "        76., 163.,   0., 155.,  82., 150., 149., 170.,  80., 152., 128.,\n",
       "       131., 220., 181., 179., 180.,  81., 161., 162., 134., 193., 188.,\n",
       "       212., 142., 146., 151., 171.,  75.,  40., 165.,  78., 185., 138.,\n",
       "       153.,  71., 175., 338., 219.,  nan, 183.,  73., 186., 199.,  68.,\n",
       "       214., 248., 159., 207., 187., 197., 164., 169., 172.,  66.,  63.,\n",
       "       213.,  62.,  11., 174.,  69., 191., 182.])"
      ]
     },
     "execution_count": 33,
     "metadata": {},
     "output_type": "execute_result"
    }
   ],
   "source": [
    "train['runtime'].unique()"
   ]
  },
  {
   "cell_type": "code",
   "execution_count": 34,
   "metadata": {},
   "outputs": [],
   "source": [
    "#train['runtime']=train['runtime'].astype(int)"
   ]
  },
  {
   "cell_type": "code",
   "execution_count": 35,
   "metadata": {},
   "outputs": [
    {
     "data": {
      "text/html": [
       "<div>\n",
       "<style scoped>\n",
       "    .dataframe tbody tr th:only-of-type {\n",
       "        vertical-align: middle;\n",
       "    }\n",
       "\n",
       "    .dataframe tbody tr th {\n",
       "        vertical-align: top;\n",
       "    }\n",
       "\n",
       "    .dataframe thead th {\n",
       "        text-align: right;\n",
       "    }\n",
       "</style>\n",
       "<table border=\"1\" class=\"dataframe\">\n",
       "  <thead>\n",
       "    <tr style=\"text-align: right;\">\n",
       "      <th></th>\n",
       "      <th>id</th>\n",
       "      <th>belongs_to_collection</th>\n",
       "      <th>budget</th>\n",
       "      <th>genres</th>\n",
       "      <th>imdb_id</th>\n",
       "      <th>original_language</th>\n",
       "      <th>popularity</th>\n",
       "      <th>production_companies</th>\n",
       "      <th>release_date</th>\n",
       "      <th>runtime</th>\n",
       "      <th>title</th>\n",
       "      <th>cast</th>\n",
       "      <th>crew</th>\n",
       "      <th>revenue</th>\n",
       "    </tr>\n",
       "  </thead>\n",
       "  <tbody>\n",
       "    <tr>\n",
       "      <td>1335</td>\n",
       "      <td>1336</td>\n",
       "      <td>0</td>\n",
       "      <td>6000000</td>\n",
       "      <td>[{'id': 18, 'name': 'Drama'}]</td>\n",
       "      <td>tt1107828</td>\n",
       "      <td>ru</td>\n",
       "      <td>0</td>\n",
       "      <td>NaN</td>\n",
       "      <td>10/29/07</td>\n",
       "      <td>NaN</td>\n",
       "      <td>Королёв</td>\n",
       "      <td>[{'cast_id': 3, 'character': '–°–µ—Ä–≥–µ–π –ö–...</td>\n",
       "      <td>[{'credit_id': '52fe4db29251416c7513d819', 'de...</td>\n",
       "      <td>31000</td>\n",
       "    </tr>\n",
       "    <tr>\n",
       "      <td>2302</td>\n",
       "      <td>2303</td>\n",
       "      <td>0</td>\n",
       "      <td>0</td>\n",
       "      <td>[{'id': 35, 'name': 'Comedy'}]</td>\n",
       "      <td>tt0116485</td>\n",
       "      <td>de</td>\n",
       "      <td>0</td>\n",
       "      <td>[{'name': 'Senator Film Produktion', 'id': 191}]</td>\n",
       "      <td>3/14/96</td>\n",
       "      <td>NaN</td>\n",
       "      <td>Happy Weekend</td>\n",
       "      <td>[{'cast_id': 0, 'character': 'Joachim Krippo',...</td>\n",
       "      <td>NaN</td>\n",
       "      <td>65335</td>\n",
       "    </tr>\n",
       "  </tbody>\n",
       "</table>\n",
       "</div>"
      ],
      "text/plain": [
       "        id belongs_to_collection   budget                          genres  \\\n",
       "1335  1336                     0  6000000   [{'id': 18, 'name': 'Drama'}]   \n",
       "2302  2303                     0        0  [{'id': 35, 'name': 'Comedy'}]   \n",
       "\n",
       "        imdb_id original_language  popularity  \\\n",
       "1335  tt1107828                ru           0   \n",
       "2302  tt0116485                de           0   \n",
       "\n",
       "                                  production_companies release_date  runtime  \\\n",
       "1335                                               NaN     10/29/07      NaN   \n",
       "2302  [{'name': 'Senator Film Produktion', 'id': 191}]      3/14/96      NaN   \n",
       "\n",
       "              title                                               cast  \\\n",
       "1335        Королёв  [{'cast_id': 3, 'character': '–°–µ—Ä–≥–µ–π –ö–...   \n",
       "2302  Happy Weekend  [{'cast_id': 0, 'character': 'Joachim Krippo',...   \n",
       "\n",
       "                                                   crew  revenue  \n",
       "1335  [{'credit_id': '52fe4db29251416c7513d819', 'de...    31000  \n",
       "2302                                                NaN    65335  "
      ]
     },
     "execution_count": 35,
     "metadata": {},
     "output_type": "execute_result"
    }
   ],
   "source": [
    "train[(train['runtime'].isnull())]"
   ]
  },
  {
   "cell_type": "code",
   "execution_count": 36,
   "metadata": {},
   "outputs": [],
   "source": [
    "train.drop([2302],inplace=True)"
   ]
  },
  {
   "cell_type": "code",
   "execution_count": 37,
   "metadata": {},
   "outputs": [],
   "source": [
    "train['runtime'].fillna(130,inplace=True)"
   ]
  },
  {
   "cell_type": "code",
   "execution_count": 38,
   "metadata": {},
   "outputs": [
    {
     "data": {
      "text/plain": [
       "1.0203227300420965"
      ]
     },
     "execution_count": 38,
     "metadata": {},
     "output_type": "execute_result"
    },
    {
     "data": {
      "image/png": "[encoded data removed]",
      "text/plain": [
       "<Figure size 432x288 with 1 Axes>"
      ]
     },
     "metadata": {
      "needs_background": "light"
     },
     "output_type": "display_data"
    }
   ],
   "source": [
    "sns.distplot(train[\"runtime\"])\n",
    "train['runtime'].skew()"
   ]
  },
  {
   "cell_type": "code",
   "execution_count": 39,
   "metadata": {},
   "outputs": [
    {
     "data": {
      "text/plain": [
       "4.54133758237584"
      ]
     },
     "execution_count": 39,
     "metadata": {},
     "output_type": "execute_result"
    },
    {
     "data": {
      "image/png": "[encoded data removed]",
      "text/plain": [
       "<Figure size 432x288 with 1 Axes>"
      ]
     },
     "metadata": {
      "needs_background": "light"
     },
     "output_type": "display_data"
    }
   ],
   "source": [
    "sns.distplot(train[\"revenue\"])\n",
    "train['revenue'].skew()"
   ]
  },
  {
   "cell_type": "code",
   "execution_count": 40,
   "metadata": {},
   "outputs": [
    {
     "data": {
      "text/plain": [
       "array([ 12314651,  95149435,  13092000, ...,  89456761, 171963386,\n",
       "        82087155], dtype=int64)"
      ]
     },
     "execution_count": 40,
     "metadata": {},
     "output_type": "execute_result"
    }
   ],
   "source": [
    "train['revenue'].unique()"
   ]
  },
  {
   "cell_type": "code",
   "execution_count": 41,
   "metadata": {},
   "outputs": [
    {
     "data": {
      "text/html": [
       "<div>\n",
       "<style scoped>\n",
       "    .dataframe tbody tr th:only-of-type {\n",
       "        vertical-align: middle;\n",
       "    }\n",
       "\n",
       "    .dataframe tbody tr th {\n",
       "        vertical-align: top;\n",
       "    }\n",
       "\n",
       "    .dataframe thead th {\n",
       "        text-align: right;\n",
       "    }\n",
       "</style>\n",
       "<table border=\"1\" class=\"dataframe\">\n",
       "  <thead>\n",
       "    <tr style=\"text-align: right;\">\n",
       "      <th></th>\n",
       "      <th>genres_1</th>\n",
       "      <th>genres_2</th>\n",
       "      <th>genres_3</th>\n",
       "      <th>genres_4</th>\n",
       "      <th>genres_5</th>\n",
       "      <th>genres_6</th>\n",
       "      <th>genres_7</th>\n",
       "      <th>genres_8</th>\n",
       "    </tr>\n",
       "  </thead>\n",
       "  <tbody>\n",
       "    <tr>\n",
       "      <td>0</td>\n",
       "      <td>Comedy</td>\n",
       "      <td>Not Found</td>\n",
       "      <td>Not Found</td>\n",
       "      <td>Not Found</td>\n",
       "      <td>Not Found</td>\n",
       "      <td>Not Found</td>\n",
       "      <td>Not Found</td>\n",
       "      <td>Not Found</td>\n",
       "    </tr>\n",
       "    <tr>\n",
       "      <td>1</td>\n",
       "      <td>Comedy</td>\n",
       "      <td>Drama</td>\n",
       "      <td>Family</td>\n",
       "      <td>Romance</td>\n",
       "      <td>Not Found</td>\n",
       "      <td>Not Found</td>\n",
       "      <td>Not Found</td>\n",
       "      <td>Not Found</td>\n",
       "    </tr>\n",
       "    <tr>\n",
       "      <td>2</td>\n",
       "      <td>Drama</td>\n",
       "      <td>Not Found</td>\n",
       "      <td>Not Found</td>\n",
       "      <td>Not Found</td>\n",
       "      <td>Not Found</td>\n",
       "      <td>Not Found</td>\n",
       "      <td>Not Found</td>\n",
       "      <td>Not Found</td>\n",
       "    </tr>\n",
       "  </tbody>\n",
       "</table>\n",
       "</div>"
      ],
      "text/plain": [
       "  genres_1   genres_2   genres_3   genres_4   genres_5   genres_6   genres_7  \\\n",
       "0   Comedy  Not Found  Not Found  Not Found  Not Found  Not Found  Not Found   \n",
       "1   Comedy      Drama     Family    Romance  Not Found  Not Found  Not Found   \n",
       "2    Drama  Not Found  Not Found  Not Found  Not Found  Not Found  Not Found   \n",
       "\n",
       "    genres_8  \n",
       "0  Not Found  \n",
       "1  Not Found  \n",
       "2  Not Found  "
      ]
     },
     "execution_count": 41,
     "metadata": {},
     "output_type": "execute_result"
    }
   ],
   "source": [
    "if 'genres' in train:\n",
    "    train_genres = train['genres'].str.extractall('([A-Z]\\w{0,})')\n",
    "    train_genres = train_genres.unstack(level=1,fill_value='Not Found')\n",
    "    train_genres.columns = ['genres_1', 'genres_2', 'genres_3', 'genres_4', 'genres_5', 'genres_6', 'genres_7', 'genres_8']\n",
    "train_genres.head(3)\n",
    "\n"
   ]
  },
  {
   "cell_type": "code",
   "execution_count": 42,
   "metadata": {},
   "outputs": [
    {
     "data": {
      "text/html": [
       "<div>\n",
       "<style scoped>\n",
       "    .dataframe tbody tr th:only-of-type {\n",
       "        vertical-align: middle;\n",
       "    }\n",
       "\n",
       "    .dataframe tbody tr th {\n",
       "        vertical-align: top;\n",
       "    }\n",
       "\n",
       "    .dataframe thead th {\n",
       "        text-align: right;\n",
       "    }\n",
       "</style>\n",
       "<table border=\"1\" class=\"dataframe\">\n",
       "  <thead>\n",
       "    <tr style=\"text-align: right;\">\n",
       "      <th></th>\n",
       "      <th>id</th>\n",
       "      <th>belongs_to_collection</th>\n",
       "      <th>budget</th>\n",
       "      <th>imdb_id</th>\n",
       "      <th>original_language</th>\n",
       "      <th>popularity</th>\n",
       "      <th>production_companies</th>\n",
       "      <th>release_date</th>\n",
       "      <th>runtime</th>\n",
       "      <th>title</th>\n",
       "      <th>...</th>\n",
       "      <th>crew</th>\n",
       "      <th>revenue</th>\n",
       "      <th>genres_1</th>\n",
       "      <th>genres_2</th>\n",
       "      <th>genres_3</th>\n",
       "      <th>genres_4</th>\n",
       "      <th>genres_5</th>\n",
       "      <th>genres_6</th>\n",
       "      <th>genres_7</th>\n",
       "      <th>genres_8</th>\n",
       "    </tr>\n",
       "  </thead>\n",
       "  <tbody>\n",
       "    <tr>\n",
       "      <td>0</td>\n",
       "      <td>1</td>\n",
       "      <td>[{'id': 313576, 'name': 'Hot Tub Time Machine ...</td>\n",
       "      <td>14000000</td>\n",
       "      <td>tt2637294</td>\n",
       "      <td>en</td>\n",
       "      <td>6</td>\n",
       "      <td>[{'name': 'Paramount Pictures', 'id': 4}, {'na...</td>\n",
       "      <td>2/20/15</td>\n",
       "      <td>93.0</td>\n",
       "      <td>Hot Tub Time Machine 2</td>\n",
       "      <td>...</td>\n",
       "      <td>[{'credit_id': '59ac067c92514107af02c8c8', 'de...</td>\n",
       "      <td>12314651</td>\n",
       "      <td>Comedy</td>\n",
       "      <td>Not Found</td>\n",
       "      <td>Not Found</td>\n",
       "      <td>Not Found</td>\n",
       "      <td>Not Found</td>\n",
       "      <td>Not Found</td>\n",
       "      <td>Not Found</td>\n",
       "      <td>Not Found</td>\n",
       "    </tr>\n",
       "    <tr>\n",
       "      <td>1</td>\n",
       "      <td>2</td>\n",
       "      <td>[{'id': 107674, 'name': 'The Princess Diaries ...</td>\n",
       "      <td>40000000</td>\n",
       "      <td>tt0368933</td>\n",
       "      <td>en</td>\n",
       "      <td>8</td>\n",
       "      <td>[{'name': 'Walt Disney Pictures', 'id': 2}]</td>\n",
       "      <td>8/6/04</td>\n",
       "      <td>113.0</td>\n",
       "      <td>The Princess Diaries 2: Royal Engagement</td>\n",
       "      <td>...</td>\n",
       "      <td>[{'credit_id': '52fe43fe9251416c7502563d', 'de...</td>\n",
       "      <td>95149435</td>\n",
       "      <td>Comedy</td>\n",
       "      <td>Drama</td>\n",
       "      <td>Family</td>\n",
       "      <td>Romance</td>\n",
       "      <td>Not Found</td>\n",
       "      <td>Not Found</td>\n",
       "      <td>Not Found</td>\n",
       "      <td>Not Found</td>\n",
       "    </tr>\n",
       "  </tbody>\n",
       "</table>\n",
       "<p>2 rows × 21 columns</p>\n",
       "</div>"
      ],
      "text/plain": [
       "   id                              belongs_to_collection    budget    imdb_id  \\\n",
       "0   1  [{'id': 313576, 'name': 'Hot Tub Time Machine ...  14000000  tt2637294   \n",
       "1   2  [{'id': 107674, 'name': 'The Princess Diaries ...  40000000  tt0368933   \n",
       "\n",
       "  original_language  popularity  \\\n",
       "0                en           6   \n",
       "1                en           8   \n",
       "\n",
       "                                production_companies release_date  runtime  \\\n",
       "0  [{'name': 'Paramount Pictures', 'id': 4}, {'na...      2/20/15     93.0   \n",
       "1        [{'name': 'Walt Disney Pictures', 'id': 2}]       8/6/04    113.0   \n",
       "\n",
       "                                      title  ...  \\\n",
       "0                    Hot Tub Time Machine 2  ...   \n",
       "1  The Princess Diaries 2: Royal Engagement  ...   \n",
       "\n",
       "                                                crew   revenue  genres_1  \\\n",
       "0  [{'credit_id': '59ac067c92514107af02c8c8', 'de...  12314651    Comedy   \n",
       "1  [{'credit_id': '52fe43fe9251416c7502563d', 'de...  95149435    Comedy   \n",
       "\n",
       "    genres_2   genres_3   genres_4   genres_5   genres_6   genres_7   genres_8  \n",
       "0  Not Found  Not Found  Not Found  Not Found  Not Found  Not Found  Not Found  \n",
       "1      Drama     Family    Romance  Not Found  Not Found  Not Found  Not Found  \n",
       "\n",
       "[2 rows x 21 columns]"
      ]
     },
     "execution_count": 42,
     "metadata": {},
     "output_type": "execute_result"
    }
   ],
   "source": [
    "if 'genres' in train:\n",
    "    train = train.drop(['genres'], axis=1)\n",
    "\n",
    "if train_genres['genres_1'].isna().any():\n",
    "    train_genres[train_genres['genres_1'].isnull()]\n",
    "    \n",
    "if len(train_genres) > 0:\n",
    "    train = pd.concat([train, train_genres], axis =1)\n",
    "    train.dropna()\n",
    "train.head(2)"
   ]
  },
  {
   "cell_type": "code",
   "execution_count": 43,
   "metadata": {},
   "outputs": [
    {
     "data": {
      "text/html": [
       "<div>\n",
       "<style scoped>\n",
       "    .dataframe tbody tr th:only-of-type {\n",
       "        vertical-align: middle;\n",
       "    }\n",
       "\n",
       "    .dataframe tbody tr th {\n",
       "        vertical-align: top;\n",
       "    }\n",
       "\n",
       "    .dataframe thead th {\n",
       "        text-align: right;\n",
       "    }\n",
       "</style>\n",
       "<table border=\"1\" class=\"dataframe\">\n",
       "  <thead>\n",
       "    <tr style=\"text-align: right;\">\n",
       "      <th></th>\n",
       "      <th>id</th>\n",
       "      <th>belongs_to_collection</th>\n",
       "      <th>budget</th>\n",
       "      <th>imdb_id</th>\n",
       "      <th>original_language</th>\n",
       "      <th>popularity</th>\n",
       "      <th>production_companies</th>\n",
       "      <th>release_date</th>\n",
       "      <th>runtime</th>\n",
       "      <th>title</th>\n",
       "      <th>...</th>\n",
       "      <th>crew</th>\n",
       "      <th>revenue</th>\n",
       "      <th>genres_1</th>\n",
       "      <th>genres_2</th>\n",
       "      <th>genres_3</th>\n",
       "      <th>genres_4</th>\n",
       "      <th>genres_5</th>\n",
       "      <th>genres_6</th>\n",
       "      <th>genres_7</th>\n",
       "      <th>genres_8</th>\n",
       "    </tr>\n",
       "  </thead>\n",
       "  <tbody>\n",
       "    <tr>\n",
       "      <td>470</td>\n",
       "      <td>471</td>\n",
       "      <td>0</td>\n",
       "      <td>2000000</td>\n",
       "      <td>tt0349159</td>\n",
       "      <td>en</td>\n",
       "      <td>0</td>\n",
       "      <td>NaN</td>\n",
       "      <td>9/12/03</td>\n",
       "      <td>120.0</td>\n",
       "      <td>The Book of Mormon Movie, Volume 1: The Journey</td>\n",
       "      <td>...</td>\n",
       "      <td>NaN</td>\n",
       "      <td>1672730</td>\n",
       "      <td>NaN</td>\n",
       "      <td>NaN</td>\n",
       "      <td>NaN</td>\n",
       "      <td>NaN</td>\n",
       "      <td>NaN</td>\n",
       "      <td>NaN</td>\n",
       "      <td>NaN</td>\n",
       "      <td>NaN</td>\n",
       "    </tr>\n",
       "    <tr>\n",
       "      <td>1622</td>\n",
       "      <td>1623</td>\n",
       "      <td>0</td>\n",
       "      <td>400000</td>\n",
       "      <td>tt0261755</td>\n",
       "      <td>en</td>\n",
       "      <td>0</td>\n",
       "      <td>NaN</td>\n",
       "      <td>7/26/01</td>\n",
       "      <td>97.0</td>\n",
       "      <td>Jackpot</td>\n",
       "      <td>...</td>\n",
       "      <td>[{'credit_id': '52fe4d3c9251416c9110f319', 'de...</td>\n",
       "      <td>43719</td>\n",
       "      <td>NaN</td>\n",
       "      <td>NaN</td>\n",
       "      <td>NaN</td>\n",
       "      <td>NaN</td>\n",
       "      <td>NaN</td>\n",
       "      <td>NaN</td>\n",
       "      <td>NaN</td>\n",
       "      <td>NaN</td>\n",
       "    </tr>\n",
       "    <tr>\n",
       "      <td>1814</td>\n",
       "      <td>1815</td>\n",
       "      <td>0</td>\n",
       "      <td>2700000</td>\n",
       "      <td>tt0110289</td>\n",
       "      <td>it</td>\n",
       "      <td>0</td>\n",
       "      <td>NaN</td>\n",
       "      <td>10/1/94</td>\n",
       "      <td>117.0</td>\n",
       "      <td>Ryaba, My Chicken</td>\n",
       "      <td>...</td>\n",
       "      <td>[{'credit_id': '52fe4c139251416c910eeee3', 'de...</td>\n",
       "      <td>4635143</td>\n",
       "      <td>NaN</td>\n",
       "      <td>NaN</td>\n",
       "      <td>NaN</td>\n",
       "      <td>NaN</td>\n",
       "      <td>NaN</td>\n",
       "      <td>NaN</td>\n",
       "      <td>NaN</td>\n",
       "      <td>NaN</td>\n",
       "    </tr>\n",
       "    <tr>\n",
       "      <td>1819</td>\n",
       "      <td>1820</td>\n",
       "      <td>0</td>\n",
       "      <td>0</td>\n",
       "      <td>tt0352622</td>\n",
       "      <td>ru</td>\n",
       "      <td>0</td>\n",
       "      <td>NaN</td>\n",
       "      <td>9/2/02</td>\n",
       "      <td>91.0</td>\n",
       "      <td>Sky. Plane. Girl.</td>\n",
       "      <td>...</td>\n",
       "      <td>[{'credit_id': '52fe4728c3a368484e0b7f53', 'de...</td>\n",
       "      <td>314195</td>\n",
       "      <td>NaN</td>\n",
       "      <td>NaN</td>\n",
       "      <td>NaN</td>\n",
       "      <td>NaN</td>\n",
       "      <td>NaN</td>\n",
       "      <td>NaN</td>\n",
       "      <td>NaN</td>\n",
       "      <td>NaN</td>\n",
       "    </tr>\n",
       "    <tr>\n",
       "      <td>2423</td>\n",
       "      <td>2424</td>\n",
       "      <td>0</td>\n",
       "      <td>500000</td>\n",
       "      <td>tt0984177</td>\n",
       "      <td>en</td>\n",
       "      <td>0</td>\n",
       "      <td>NaN</td>\n",
       "      <td>8/25/99</td>\n",
       "      <td>157.0</td>\n",
       "      <td>Amarkalam</td>\n",
       "      <td>...</td>\n",
       "      <td>[{'credit_id': '53b42af80e0a26598c00cea3', 'de...</td>\n",
       "      <td>500000</td>\n",
       "      <td>NaN</td>\n",
       "      <td>NaN</td>\n",
       "      <td>NaN</td>\n",
       "      <td>NaN</td>\n",
       "      <td>NaN</td>\n",
       "      <td>NaN</td>\n",
       "      <td>NaN</td>\n",
       "      <td>NaN</td>\n",
       "    </tr>\n",
       "    <tr>\n",
       "      <td>2686</td>\n",
       "      <td>2687</td>\n",
       "      <td>0</td>\n",
       "      <td>0</td>\n",
       "      <td>tt0833448</td>\n",
       "      <td>ru</td>\n",
       "      <td>0</td>\n",
       "      <td>NaN</td>\n",
       "      <td>7/1/06</td>\n",
       "      <td>88.0</td>\n",
       "      <td>Lift</td>\n",
       "      <td>...</td>\n",
       "      <td>[{'credit_id': '57b8a5d19251411bc6000587', 'de...</td>\n",
       "      <td>123182</td>\n",
       "      <td>NaN</td>\n",
       "      <td>NaN</td>\n",
       "      <td>NaN</td>\n",
       "      <td>NaN</td>\n",
       "      <td>NaN</td>\n",
       "      <td>NaN</td>\n",
       "      <td>NaN</td>\n",
       "      <td>NaN</td>\n",
       "    </tr>\n",
       "    <tr>\n",
       "      <td>2900</td>\n",
       "      <td>2901</td>\n",
       "      <td>0</td>\n",
       "      <td>200000</td>\n",
       "      <td>tt1766044</td>\n",
       "      <td>en</td>\n",
       "      <td>0</td>\n",
       "      <td>NaN</td>\n",
       "      <td>11/1/12</td>\n",
       "      <td>100.0</td>\n",
       "      <td>Rita's Last Fairy Tale</td>\n",
       "      <td>...</td>\n",
       "      <td>[{'credit_id': '52fe4ab89251416c750ebaab', 'de...</td>\n",
       "      <td>486937</td>\n",
       "      <td>NaN</td>\n",
       "      <td>NaN</td>\n",
       "      <td>NaN</td>\n",
       "      <td>NaN</td>\n",
       "      <td>NaN</td>\n",
       "      <td>NaN</td>\n",
       "      <td>NaN</td>\n",
       "      <td>NaN</td>\n",
       "    </tr>\n",
       "  </tbody>\n",
       "</table>\n",
       "<p>7 rows × 21 columns</p>\n",
       "</div>"
      ],
      "text/plain": [
       "        id belongs_to_collection   budget    imdb_id original_language  \\\n",
       "470    471                     0  2000000  tt0349159                en   \n",
       "1622  1623                     0   400000  tt0261755                en   \n",
       "1814  1815                     0  2700000  tt0110289                it   \n",
       "1819  1820                     0        0  tt0352622                ru   \n",
       "2423  2424                     0   500000  tt0984177                en   \n",
       "2686  2687                     0        0  tt0833448                ru   \n",
       "2900  2901                     0   200000  tt1766044                en   \n",
       "\n",
       "      popularity production_companies release_date  runtime  \\\n",
       "470            0                  NaN      9/12/03    120.0   \n",
       "1622           0                  NaN      7/26/01     97.0   \n",
       "1814           0                  NaN      10/1/94    117.0   \n",
       "1819           0                  NaN       9/2/02     91.0   \n",
       "2423           0                  NaN      8/25/99    157.0   \n",
       "2686           0                  NaN       7/1/06     88.0   \n",
       "2900           0                  NaN      11/1/12    100.0   \n",
       "\n",
       "                                                title  ...  \\\n",
       "470   The Book of Mormon Movie, Volume 1: The Journey  ...   \n",
       "1622                                          Jackpot  ...   \n",
       "1814                                Ryaba, My Chicken  ...   \n",
       "1819                                Sky. Plane. Girl.  ...   \n",
       "2423                                        Amarkalam  ...   \n",
       "2686                                             Lift  ...   \n",
       "2900                           Rita's Last Fairy Tale  ...   \n",
       "\n",
       "                                                   crew  revenue  genres_1  \\\n",
       "470                                                 NaN  1672730       NaN   \n",
       "1622  [{'credit_id': '52fe4d3c9251416c9110f319', 'de...    43719       NaN   \n",
       "1814  [{'credit_id': '52fe4c139251416c910eeee3', 'de...  4635143       NaN   \n",
       "1819  [{'credit_id': '52fe4728c3a368484e0b7f53', 'de...   314195       NaN   \n",
       "2423  [{'credit_id': '53b42af80e0a26598c00cea3', 'de...   500000       NaN   \n",
       "2686  [{'credit_id': '57b8a5d19251411bc6000587', 'de...   123182       NaN   \n",
       "2900  [{'credit_id': '52fe4ab89251416c750ebaab', 'de...   486937       NaN   \n",
       "\n",
       "     genres_2 genres_3 genres_4 genres_5 genres_6 genres_7 genres_8  \n",
       "470       NaN      NaN      NaN      NaN      NaN      NaN      NaN  \n",
       "1622      NaN      NaN      NaN      NaN      NaN      NaN      NaN  \n",
       "1814      NaN      NaN      NaN      NaN      NaN      NaN      NaN  \n",
       "1819      NaN      NaN      NaN      NaN      NaN      NaN      NaN  \n",
       "2423      NaN      NaN      NaN      NaN      NaN      NaN      NaN  \n",
       "2686      NaN      NaN      NaN      NaN      NaN      NaN      NaN  \n",
       "2900      NaN      NaN      NaN      NaN      NaN      NaN      NaN  \n",
       "\n",
       "[7 rows x 21 columns]"
      ]
     },
     "execution_count": 43,
     "metadata": {},
     "output_type": "execute_result"
    }
   ],
   "source": [
    "train[(train['genres_1'].isnull())]"
   ]
  },
  {
   "cell_type": "code",
   "execution_count": 44,
   "metadata": {},
   "outputs": [
    {
     "data": {
      "text/plain": [
       "(0, 21)"
      ]
     },
     "execution_count": 44,
     "metadata": {},
     "output_type": "execute_result"
    }
   ],
   "source": [
    "train[(train['genres_1']=='Not Found')].shape"
   ]
  },
  {
   "cell_type": "code",
   "execution_count": 45,
   "metadata": {},
   "outputs": [],
   "source": [
    "train.drop([470,1622,1814,1819,2423,2686,2900],inplace=True)"
   ]
  },
  {
   "cell_type": "code",
   "execution_count": 46,
   "metadata": {},
   "outputs": [],
   "source": [
    "train.drop(columns=['genres_2','genres_3','genres_4','genres_5','genres_6','genres_7','genres_8'],inplace=True)\n",
    "train.drop(columns=['production_companies','belongs_to_collection','cast','crew','title','imdb_id'],inplace=True)"
   ]
  },
  {
   "cell_type": "code",
   "execution_count": 47,
   "metadata": {},
   "outputs": [
    {
     "data": {
      "text/html": [
       "<div>\n",
       "<style scoped>\n",
       "    .dataframe tbody tr th:only-of-type {\n",
       "        vertical-align: middle;\n",
       "    }\n",
       "\n",
       "    .dataframe tbody tr th {\n",
       "        vertical-align: top;\n",
       "    }\n",
       "\n",
       "    .dataframe thead th {\n",
       "        text-align: right;\n",
       "    }\n",
       "</style>\n",
       "<table border=\"1\" class=\"dataframe\">\n",
       "  <thead>\n",
       "    <tr style=\"text-align: right;\">\n",
       "      <th></th>\n",
       "      <th>id</th>\n",
       "      <th>budget</th>\n",
       "      <th>original_language</th>\n",
       "      <th>popularity</th>\n",
       "      <th>release_date</th>\n",
       "      <th>runtime</th>\n",
       "      <th>revenue</th>\n",
       "      <th>genres_1</th>\n",
       "    </tr>\n",
       "  </thead>\n",
       "  <tbody>\n",
       "    <tr>\n",
       "      <td>0</td>\n",
       "      <td>1</td>\n",
       "      <td>14000000</td>\n",
       "      <td>en</td>\n",
       "      <td>6</td>\n",
       "      <td>2/20/15</td>\n",
       "      <td>93.0</td>\n",
       "      <td>12314651</td>\n",
       "      <td>Comedy</td>\n",
       "    </tr>\n",
       "    <tr>\n",
       "      <td>1</td>\n",
       "      <td>2</td>\n",
       "      <td>40000000</td>\n",
       "      <td>en</td>\n",
       "      <td>8</td>\n",
       "      <td>8/6/04</td>\n",
       "      <td>113.0</td>\n",
       "      <td>95149435</td>\n",
       "      <td>Comedy</td>\n",
       "    </tr>\n",
       "    <tr>\n",
       "      <td>2</td>\n",
       "      <td>3</td>\n",
       "      <td>3300000</td>\n",
       "      <td>en</td>\n",
       "      <td>64</td>\n",
       "      <td>10/10/14</td>\n",
       "      <td>105.0</td>\n",
       "      <td>13092000</td>\n",
       "      <td>Drama</td>\n",
       "    </tr>\n",
       "  </tbody>\n",
       "</table>\n",
       "</div>"
      ],
      "text/plain": [
       "   id    budget original_language  popularity release_date  runtime   revenue  \\\n",
       "0   1  14000000                en           6      2/20/15     93.0  12314651   \n",
       "1   2  40000000                en           8       8/6/04    113.0  95149435   \n",
       "2   3   3300000                en          64     10/10/14    105.0  13092000   \n",
       "\n",
       "  genres_1  \n",
       "0   Comedy  \n",
       "1   Comedy  \n",
       "2    Drama  "
      ]
     },
     "execution_count": 47,
     "metadata": {},
     "output_type": "execute_result"
    }
   ],
   "source": [
    "train.head(3)"
   ]
  },
  {
   "cell_type": "code",
   "execution_count": 48,
   "metadata": {},
   "outputs": [
    {
     "data": {
      "text/plain": [
       "(0, 8)"
      ]
     },
     "execution_count": 48,
     "metadata": {},
     "output_type": "execute_result"
    }
   ],
   "source": [
    "train[(train['budget'] == 0) & (train['revenue'] == 0)].shape"
   ]
  },
  {
   "cell_type": "code",
   "execution_count": 49,
   "metadata": {},
   "outputs": [
    {
     "data": {
      "text/plain": [
       "(790, 8)"
      ]
     },
     "execution_count": 49,
     "metadata": {},
     "output_type": "execute_result"
    }
   ],
   "source": [
    "train[(train['budget'] == 0) & (train['revenue'] >= 1)].shape"
   ]
  },
  {
   "cell_type": "code",
   "execution_count": 50,
   "metadata": {},
   "outputs": [
    {
     "data": {
      "text/plain": [
       "(665, 8)"
      ]
     },
     "execution_count": 50,
     "metadata": {},
     "output_type": "execute_result"
    }
   ],
   "source": [
    "\n",
    "train[(train['budget']==0) & (train['popularity'] <= 8.248895)].shape"
   ]
  },
  {
   "cell_type": "code",
   "execution_count": 51,
   "metadata": {},
   "outputs": [
    {
     "data": {
      "text/plain": [
       "(613, 8)"
      ]
     },
     "execution_count": 51,
     "metadata": {},
     "output_type": "execute_result"
    }
   ],
   "source": [
    "train[(train['budget']==0) & (train['original_language'] =='en')].shape"
   ]
  },
  {
   "cell_type": "code",
   "execution_count": 52,
   "metadata": {},
   "outputs": [],
   "source": [
    "train['release_date'] = pd.to_datetime(train['release_date'])"
   ]
  },
  {
   "cell_type": "code",
   "execution_count": 53,
   "metadata": {},
   "outputs": [
    {
     "data": {
      "text/html": [
       "<div>\n",
       "<style scoped>\n",
       "    .dataframe tbody tr th:only-of-type {\n",
       "        vertical-align: middle;\n",
       "    }\n",
       "\n",
       "    .dataframe tbody tr th {\n",
       "        vertical-align: top;\n",
       "    }\n",
       "\n",
       "    .dataframe thead th {\n",
       "        text-align: right;\n",
       "    }\n",
       "</style>\n",
       "<table border=\"1\" class=\"dataframe\">\n",
       "  <thead>\n",
       "    <tr style=\"text-align: right;\">\n",
       "      <th></th>\n",
       "      <th>id</th>\n",
       "      <th>budget</th>\n",
       "      <th>original_language</th>\n",
       "      <th>popularity</th>\n",
       "      <th>release_date</th>\n",
       "      <th>runtime</th>\n",
       "      <th>revenue</th>\n",
       "      <th>genres_1</th>\n",
       "      <th>Year</th>\n",
       "      <th>Month</th>\n",
       "      <th>Day</th>\n",
       "      <th>dayOfWeek</th>\n",
       "    </tr>\n",
       "  </thead>\n",
       "  <tbody>\n",
       "    <tr>\n",
       "      <td>0</td>\n",
       "      <td>1</td>\n",
       "      <td>14000000</td>\n",
       "      <td>en</td>\n",
       "      <td>6</td>\n",
       "      <td>2015-02-20</td>\n",
       "      <td>93.0</td>\n",
       "      <td>12314651</td>\n",
       "      <td>Comedy</td>\n",
       "      <td>2015</td>\n",
       "      <td>2</td>\n",
       "      <td>20</td>\n",
       "      <td>Friday</td>\n",
       "    </tr>\n",
       "    <tr>\n",
       "      <td>1</td>\n",
       "      <td>2</td>\n",
       "      <td>40000000</td>\n",
       "      <td>en</td>\n",
       "      <td>8</td>\n",
       "      <td>2004-08-06</td>\n",
       "      <td>113.0</td>\n",
       "      <td>95149435</td>\n",
       "      <td>Comedy</td>\n",
       "      <td>2004</td>\n",
       "      <td>8</td>\n",
       "      <td>6</td>\n",
       "      <td>Friday</td>\n",
       "    </tr>\n",
       "    <tr>\n",
       "      <td>2</td>\n",
       "      <td>3</td>\n",
       "      <td>3300000</td>\n",
       "      <td>en</td>\n",
       "      <td>64</td>\n",
       "      <td>2014-10-10</td>\n",
       "      <td>105.0</td>\n",
       "      <td>13092000</td>\n",
       "      <td>Drama</td>\n",
       "      <td>2014</td>\n",
       "      <td>10</td>\n",
       "      <td>10</td>\n",
       "      <td>Friday</td>\n",
       "    </tr>\n",
       "    <tr>\n",
       "      <td>3</td>\n",
       "      <td>4</td>\n",
       "      <td>1200000</td>\n",
       "      <td>hi</td>\n",
       "      <td>3</td>\n",
       "      <td>2012-03-09</td>\n",
       "      <td>122.0</td>\n",
       "      <td>16000000</td>\n",
       "      <td>Thriller</td>\n",
       "      <td>2012</td>\n",
       "      <td>3</td>\n",
       "      <td>9</td>\n",
       "      <td>Friday</td>\n",
       "    </tr>\n",
       "    <tr>\n",
       "      <td>4</td>\n",
       "      <td>5</td>\n",
       "      <td>0</td>\n",
       "      <td>ko</td>\n",
       "      <td>1</td>\n",
       "      <td>2009-02-05</td>\n",
       "      <td>118.0</td>\n",
       "      <td>3923970</td>\n",
       "      <td>Action</td>\n",
       "      <td>2009</td>\n",
       "      <td>2</td>\n",
       "      <td>5</td>\n",
       "      <td>Thursday</td>\n",
       "    </tr>\n",
       "  </tbody>\n",
       "</table>\n",
       "</div>"
      ],
      "text/plain": [
       "   id    budget original_language  popularity release_date  runtime   revenue  \\\n",
       "0   1  14000000                en           6   2015-02-20     93.0  12314651   \n",
       "1   2  40000000                en           8   2004-08-06    113.0  95149435   \n",
       "2   3   3300000                en          64   2014-10-10    105.0  13092000   \n",
       "3   4   1200000                hi           3   2012-03-09    122.0  16000000   \n",
       "4   5         0                ko           1   2009-02-05    118.0   3923970   \n",
       "\n",
       "   genres_1  Year  Month  Day dayOfWeek  \n",
       "0    Comedy  2015      2   20    Friday  \n",
       "1    Comedy  2004      8    6    Friday  \n",
       "2     Drama  2014     10   10    Friday  \n",
       "3  Thriller  2012      3    9    Friday  \n",
       "4    Action  2009      2    5  Thursday  "
      ]
     },
     "execution_count": 53,
     "metadata": {},
     "output_type": "execute_result"
    }
   ],
   "source": [
    "train['Year'] = train['release_date'].dt.year\n",
    "train['Month'] = train['release_date'].dt.month\n",
    "train['Day'] = train['release_date'].dt.day\n",
    "train['dayOfWeek'] = train['release_date'].dt.day_name()\n",
    "\n",
    "train.head()"
   ]
  },
  {
   "cell_type": "code",
   "execution_count": 54,
   "metadata": {},
   "outputs": [
    {
     "data": {
      "text/plain": [
       "(141, 12)"
      ]
     },
     "execution_count": 54,
     "metadata": {},
     "output_type": "execute_result"
    }
   ],
   "source": [
    "train[(train['budget'] == 0) & (train['revenue'] <100000)].shape"
   ]
  },
  {
   "cell_type": "code",
   "execution_count": 55,
   "metadata": {},
   "outputs": [
    {
     "data": {
      "text/plain": [
       "16977278.5"
      ]
     },
     "execution_count": 55,
     "metadata": {},
     "output_type": "execute_result"
    }
   ],
   "source": [
    "train['revenue'].median()"
   ]
  },
  {
   "cell_type": "code",
   "execution_count": 56,
   "metadata": {},
   "outputs": [
    {
     "data": {
      "text/plain": [
       "(2, 12)"
      ]
     },
     "execution_count": 56,
     "metadata": {},
     "output_type": "execute_result"
    }
   ],
   "source": [
    "train[(train['budget'] == 0) & (train['revenue'] >= 100000000) ].shape"
   ]
  },
  {
   "cell_type": "code",
   "execution_count": 57,
   "metadata": {},
   "outputs": [],
   "source": [
    "x=train[(train['budget'] > 0) & (train['revenue'] >= 100000000)]"
   ]
  },
  {
   "cell_type": "code",
   "execution_count": 58,
   "metadata": {},
   "outputs": [
    {
     "data": {
      "text/plain": [
       "69704145.09803921"
      ]
     },
     "execution_count": 58,
     "metadata": {},
     "output_type": "execute_result"
    }
   ],
   "source": [
    "x['budget'].mean()"
   ]
  },
  {
   "cell_type": "code",
   "execution_count": 59,
   "metadata": {},
   "outputs": [],
   "source": [
    "train.loc[(train['budget'] == 0) & (train['revenue'] >= 100000000),'budget']=69704145.09803921"
   ]
  },
  {
   "cell_type": "code",
   "execution_count": 60,
   "metadata": {},
   "outputs": [
    {
     "data": {
      "text/plain": [
       "(210, 12)"
      ]
     },
     "execution_count": 60,
     "metadata": {},
     "output_type": "execute_result"
    }
   ],
   "source": [
    "train[(train['budget'] == 0) & (train['revenue'] >= 10000000) ].shape"
   ]
  },
  {
   "cell_type": "code",
   "execution_count": 61,
   "metadata": {},
   "outputs": [],
   "source": [
    "y=train[(train['budget'] >0) & (train['revenue'] >= 10000000) ]"
   ]
  },
  {
   "cell_type": "code",
   "execution_count": 62,
   "metadata": {},
   "outputs": [
    {
     "data": {
      "text/plain": [
       "40652976.93165121"
      ]
     },
     "execution_count": 62,
     "metadata": {},
     "output_type": "execute_result"
    }
   ],
   "source": [
    "y['budget'].mean()"
   ]
  },
  {
   "cell_type": "code",
   "execution_count": 63,
   "metadata": {},
   "outputs": [],
   "source": [
    "train.loc[(train['budget'] == 0) & (train['revenue'] >= 10000000), 'budget']=40652976.93165121"
   ]
  },
  {
   "cell_type": "code",
   "execution_count": 64,
   "metadata": {},
   "outputs": [
    {
     "data": {
      "text/plain": [
       "(578, 12)"
      ]
     },
     "execution_count": 64,
     "metadata": {},
     "output_type": "execute_result"
    }
   ],
   "source": [
    "train[(train['budget'] ==0) & (train['revenue'] <10000000)].shape"
   ]
  },
  {
   "cell_type": "code",
   "execution_count": 65,
   "metadata": {},
   "outputs": [],
   "source": [
    "z=train[(train['budget'] >0) & (train['revenue'] <10000000)]"
   ]
  },
  {
   "cell_type": "code",
   "execution_count": 66,
   "metadata": {},
   "outputs": [
    {
     "data": {
      "text/plain": [
       "7953928.13803681"
      ]
     },
     "execution_count": 66,
     "metadata": {},
     "output_type": "execute_result"
    }
   ],
   "source": [
    "z['budget'].mean()"
   ]
  },
  {
   "cell_type": "code",
   "execution_count": 67,
   "metadata": {},
   "outputs": [],
   "source": [
    "train.loc[(train['budget'] == 0) & (train['revenue'] >= 10000000), 'budget']=40652976.93165121"
   ]
  },
  {
   "cell_type": "code",
   "execution_count": null,
   "metadata": {},
   "outputs": [],
   "source": []
  },
  {
   "cell_type": "code",
   "execution_count": 68,
   "metadata": {},
   "outputs": [],
   "source": [
    "train.drop(columns=['Year','Month','Day','release_date'],inplace=True)"
   ]
  },
  {
   "cell_type": "code",
   "execution_count": 69,
   "metadata": {},
   "outputs": [
    {
     "data": {
      "text/plain": [
       "array(['en', 'hi', 'ko', 'sr', 'fr', 'it', 'nl', 'zh', 'es', 'cs', 'ta',\n",
       "       'cn', 'ru', 'tr', 'ja', 'fa', 'sv', 'de', 'te', 'pt', 'mr', 'da',\n",
       "       'fi', 'el', 'ur', 'he', 'no', 'ar', 'nb', 'ro', 'vi', 'pl', 'hu',\n",
       "       'ml', 'bn', 'id'], dtype=object)"
      ]
     },
     "execution_count": 69,
     "metadata": {},
     "output_type": "execute_result"
    }
   ],
   "source": [
    "train['original_language'].unique()"
   ]
  },
  {
   "cell_type": "code",
   "execution_count": 70,
   "metadata": {},
   "outputs": [
    {
     "data": {
      "text/plain": [
       "(2567, 8)"
      ]
     },
     "execution_count": 70,
     "metadata": {},
     "output_type": "execute_result"
    }
   ],
   "source": [
    "train[(train['original_language'] =='en')].shape"
   ]
  },
  {
   "cell_type": "code",
   "execution_count": 71,
   "metadata": {},
   "outputs": [
    {
     "data": {
      "text/plain": [
       "en    2567\n",
       "fr      78\n",
       "ru      45\n",
       "es      43\n",
       "hi      42\n",
       "ja      37\n",
       "it      23\n",
       "cn      20\n",
       "ko      20\n",
       "zh      19\n",
       "de      17\n",
       "ta      16\n",
       "sv       8\n",
       "pt       6\n",
       "nl       6\n",
       "fa       5\n",
       "da       5\n",
       "ro       4\n",
       "tr       3\n",
       "hu       3\n",
       "pl       2\n",
       "ml       2\n",
       "te       2\n",
       "no       2\n",
       "fi       2\n",
       "ur       1\n",
       "sr       1\n",
       "nb       1\n",
       "vi       1\n",
       "el       1\n",
       "bn       1\n",
       "cs       1\n",
       "ar       1\n",
       "he       1\n",
       "id       1\n",
       "mr       1\n",
       "Name: original_language, dtype: int64"
      ]
     },
     "execution_count": 71,
     "metadata": {},
     "output_type": "execute_result"
    }
   ],
   "source": [
    "train.original_language.value_counts()"
   ]
  },
  {
   "cell_type": "code",
   "execution_count": 72,
   "metadata": {},
   "outputs": [],
   "source": [
    "lang={'en':1, 'hi':5, 'ko':8, 'sr':13, 'fr':2, 'it':7, 'nl':13, 'zh':10, 'es':4, 'cs':13, 'ta':12,\n",
    "       'cn':9, 'ru':3, 'tr':13, 'ja':6, 'fa':13, 'sv':13, 'de':11, 'te':13, 'pt':13, 'mr':13, 'da':13,\n",
    "       'fi':13, 'el':13, 'ur':13, 'he':13, 'no':13, 'ar':13, 'nb':13, 'ro':13, 'vi':13, 'pl':13, 'hu':13,\n",
    "       'ml':13, 'bn':13, 'id':13\n",
    "    \n",
    "}"
   ]
  },
  {
   "cell_type": "code",
   "execution_count": 73,
   "metadata": {},
   "outputs": [
    {
     "data": {
      "text/html": [
       "<div>\n",
       "<style scoped>\n",
       "    .dataframe tbody tr th:only-of-type {\n",
       "        vertical-align: middle;\n",
       "    }\n",
       "\n",
       "    .dataframe tbody tr th {\n",
       "        vertical-align: top;\n",
       "    }\n",
       "\n",
       "    .dataframe thead th {\n",
       "        text-align: right;\n",
       "    }\n",
       "</style>\n",
       "<table border=\"1\" class=\"dataframe\">\n",
       "  <thead>\n",
       "    <tr style=\"text-align: right;\">\n",
       "      <th></th>\n",
       "      <th>id</th>\n",
       "      <th>budget</th>\n",
       "      <th>original_language</th>\n",
       "      <th>popularity</th>\n",
       "      <th>runtime</th>\n",
       "      <th>revenue</th>\n",
       "      <th>genres_1</th>\n",
       "      <th>dayOfWeek</th>\n",
       "    </tr>\n",
       "  </thead>\n",
       "  <tbody>\n",
       "    <tr>\n",
       "      <td>0</td>\n",
       "      <td>1</td>\n",
       "      <td>14000000.0</td>\n",
       "      <td>1</td>\n",
       "      <td>6</td>\n",
       "      <td>93.0</td>\n",
       "      <td>12314651</td>\n",
       "      <td>Comedy</td>\n",
       "      <td>Friday</td>\n",
       "    </tr>\n",
       "    <tr>\n",
       "      <td>1</td>\n",
       "      <td>2</td>\n",
       "      <td>40000000.0</td>\n",
       "      <td>1</td>\n",
       "      <td>8</td>\n",
       "      <td>113.0</td>\n",
       "      <td>95149435</td>\n",
       "      <td>Comedy</td>\n",
       "      <td>Friday</td>\n",
       "    </tr>\n",
       "    <tr>\n",
       "      <td>2</td>\n",
       "      <td>3</td>\n",
       "      <td>3300000.0</td>\n",
       "      <td>1</td>\n",
       "      <td>64</td>\n",
       "      <td>105.0</td>\n",
       "      <td>13092000</td>\n",
       "      <td>Drama</td>\n",
       "      <td>Friday</td>\n",
       "    </tr>\n",
       "    <tr>\n",
       "      <td>3</td>\n",
       "      <td>4</td>\n",
       "      <td>1200000.0</td>\n",
       "      <td>5</td>\n",
       "      <td>3</td>\n",
       "      <td>122.0</td>\n",
       "      <td>16000000</td>\n",
       "      <td>Thriller</td>\n",
       "      <td>Friday</td>\n",
       "    </tr>\n",
       "    <tr>\n",
       "      <td>4</td>\n",
       "      <td>5</td>\n",
       "      <td>0.0</td>\n",
       "      <td>8</td>\n",
       "      <td>1</td>\n",
       "      <td>118.0</td>\n",
       "      <td>3923970</td>\n",
       "      <td>Action</td>\n",
       "      <td>Thursday</td>\n",
       "    </tr>\n",
       "  </tbody>\n",
       "</table>\n",
       "</div>"
      ],
      "text/plain": [
       "   id      budget  original_language  popularity  runtime   revenue  genres_1  \\\n",
       "0   1  14000000.0                  1           6     93.0  12314651    Comedy   \n",
       "1   2  40000000.0                  1           8    113.0  95149435    Comedy   \n",
       "2   3   3300000.0                  1          64    105.0  13092000     Drama   \n",
       "3   4   1200000.0                  5           3    122.0  16000000  Thriller   \n",
       "4   5         0.0                  8           1    118.0   3923970    Action   \n",
       "\n",
       "  dayOfWeek  \n",
       "0    Friday  \n",
       "1    Friday  \n",
       "2    Friday  \n",
       "3    Friday  \n",
       "4  Thursday  "
      ]
     },
     "execution_count": 73,
     "metadata": {},
     "output_type": "execute_result"
    }
   ],
   "source": [
    "mappedoriginal_language = train['original_language'].map(lang)\n",
    "train['original_language'] = mappedoriginal_language\n",
    "train.head()"
   ]
  },
  {
   "cell_type": "code",
   "execution_count": 74,
   "metadata": {},
   "outputs": [],
   "source": [
    "train.loc[(train['dayOfWeek'] == 'Monday') ,'dayOfWeek'] =0\n",
    "train.loc[(train['dayOfWeek'] == 'Tuesday') ,'dayOfWeek'] =0\n",
    "train.loc[(train['dayOfWeek'] == 'Wednesday') ,'dayOfWeek'] =0\n",
    "train.loc[(train['dayOfWeek'] == 'Thursday') ,'dayOfWeek'] =0\n",
    "train.loc[(train['dayOfWeek'] == 'Friday') ,'dayOfWeek'] =1\n",
    "train.loc[(train['dayOfWeek'] == 'Saturday') ,'dayOfWeek'] =1\n",
    "train.loc[(train['dayOfWeek'] == 'Sunday') ,'dayOfWeek'] =1"
   ]
  },
  {
   "cell_type": "code",
   "execution_count": 75,
   "metadata": {},
   "outputs": [
    {
     "data": {
      "text/html": [
       "<div>\n",
       "<style scoped>\n",
       "    .dataframe tbody tr th:only-of-type {\n",
       "        vertical-align: middle;\n",
       "    }\n",
       "\n",
       "    .dataframe tbody tr th {\n",
       "        vertical-align: top;\n",
       "    }\n",
       "\n",
       "    .dataframe thead th {\n",
       "        text-align: right;\n",
       "    }\n",
       "</style>\n",
       "<table border=\"1\" class=\"dataframe\">\n",
       "  <thead>\n",
       "    <tr style=\"text-align: right;\">\n",
       "      <th></th>\n",
       "      <th>id</th>\n",
       "      <th>budget</th>\n",
       "      <th>original_language</th>\n",
       "      <th>popularity</th>\n",
       "      <th>runtime</th>\n",
       "      <th>revenue</th>\n",
       "      <th>genres_1</th>\n",
       "      <th>dayOfWeek</th>\n",
       "    </tr>\n",
       "  </thead>\n",
       "  <tbody>\n",
       "    <tr>\n",
       "      <td>0</td>\n",
       "      <td>1</td>\n",
       "      <td>14000000.0</td>\n",
       "      <td>1</td>\n",
       "      <td>6</td>\n",
       "      <td>93.0</td>\n",
       "      <td>12314651</td>\n",
       "      <td>Comedy</td>\n",
       "      <td>1</td>\n",
       "    </tr>\n",
       "    <tr>\n",
       "      <td>1</td>\n",
       "      <td>2</td>\n",
       "      <td>40000000.0</td>\n",
       "      <td>1</td>\n",
       "      <td>8</td>\n",
       "      <td>113.0</td>\n",
       "      <td>95149435</td>\n",
       "      <td>Comedy</td>\n",
       "      <td>1</td>\n",
       "    </tr>\n",
       "    <tr>\n",
       "      <td>2</td>\n",
       "      <td>3</td>\n",
       "      <td>3300000.0</td>\n",
       "      <td>1</td>\n",
       "      <td>64</td>\n",
       "      <td>105.0</td>\n",
       "      <td>13092000</td>\n",
       "      <td>Drama</td>\n",
       "      <td>1</td>\n",
       "    </tr>\n",
       "    <tr>\n",
       "      <td>3</td>\n",
       "      <td>4</td>\n",
       "      <td>1200000.0</td>\n",
       "      <td>5</td>\n",
       "      <td>3</td>\n",
       "      <td>122.0</td>\n",
       "      <td>16000000</td>\n",
       "      <td>Thriller</td>\n",
       "      <td>1</td>\n",
       "    </tr>\n",
       "    <tr>\n",
       "      <td>4</td>\n",
       "      <td>5</td>\n",
       "      <td>0.0</td>\n",
       "      <td>8</td>\n",
       "      <td>1</td>\n",
       "      <td>118.0</td>\n",
       "      <td>3923970</td>\n",
       "      <td>Action</td>\n",
       "      <td>0</td>\n",
       "    </tr>\n",
       "  </tbody>\n",
       "</table>\n",
       "</div>"
      ],
      "text/plain": [
       "   id      budget  original_language  popularity  runtime   revenue  genres_1  \\\n",
       "0   1  14000000.0                  1           6     93.0  12314651    Comedy   \n",
       "1   2  40000000.0                  1           8    113.0  95149435    Comedy   \n",
       "2   3   3300000.0                  1          64    105.0  13092000     Drama   \n",
       "3   4   1200000.0                  5           3    122.0  16000000  Thriller   \n",
       "4   5         0.0                  8           1    118.0   3923970    Action   \n",
       "\n",
       "   dayOfWeek  \n",
       "0          1  \n",
       "1          1  \n",
       "2          1  \n",
       "3          1  \n",
       "4          0  "
      ]
     },
     "execution_count": 75,
     "metadata": {},
     "output_type": "execute_result"
    }
   ],
   "source": [
    "train.head()"
   ]
  },
  {
   "cell_type": "code",
   "execution_count": 76,
   "metadata": {},
   "outputs": [],
   "source": [
    "Dict ={\n",
    "    'Comedy':1,\n",
    "    'Drama': 2,\n",
    "    'Thriller':3,\n",
    "    'Action':4,\n",
    "    'Animation':5,\n",
    "    'Horror':6,\n",
    "    'Documentary':7,\n",
    "    'Adventure':8,\n",
    "    'Crime':9,\n",
    "    'Mystery':10,\n",
    "    'Fantasy':11,\n",
    "    'War':12,\n",
    "    'Science':13,\n",
    "    'Romance':14,\n",
    "    'Music':15,\n",
    "    'Western':16,\n",
    "    'Family':17,\n",
    "    'History':18,\n",
    "    'Foreign':19,\n",
    "    'TV':20\n",
    "    }"
   ]
  },
  {
   "cell_type": "code",
   "execution_count": 77,
   "metadata": {},
   "outputs": [
    {
     "data": {
      "text/html": [
       "<div>\n",
       "<style scoped>\n",
       "    .dataframe tbody tr th:only-of-type {\n",
       "        vertical-align: middle;\n",
       "    }\n",
       "\n",
       "    .dataframe tbody tr th {\n",
       "        vertical-align: top;\n",
       "    }\n",
       "\n",
       "    .dataframe thead th {\n",
       "        text-align: right;\n",
       "    }\n",
       "</style>\n",
       "<table border=\"1\" class=\"dataframe\">\n",
       "  <thead>\n",
       "    <tr style=\"text-align: right;\">\n",
       "      <th></th>\n",
       "      <th>id</th>\n",
       "      <th>budget</th>\n",
       "      <th>original_language</th>\n",
       "      <th>popularity</th>\n",
       "      <th>runtime</th>\n",
       "      <th>revenue</th>\n",
       "      <th>genres_1</th>\n",
       "      <th>dayOfWeek</th>\n",
       "      <th>genres</th>\n",
       "    </tr>\n",
       "  </thead>\n",
       "  <tbody>\n",
       "    <tr>\n",
       "      <td>0</td>\n",
       "      <td>1</td>\n",
       "      <td>14000000.0</td>\n",
       "      <td>1</td>\n",
       "      <td>6</td>\n",
       "      <td>93.0</td>\n",
       "      <td>12314651</td>\n",
       "      <td>Comedy</td>\n",
       "      <td>1</td>\n",
       "      <td>1</td>\n",
       "    </tr>\n",
       "    <tr>\n",
       "      <td>1</td>\n",
       "      <td>2</td>\n",
       "      <td>40000000.0</td>\n",
       "      <td>1</td>\n",
       "      <td>8</td>\n",
       "      <td>113.0</td>\n",
       "      <td>95149435</td>\n",
       "      <td>Comedy</td>\n",
       "      <td>1</td>\n",
       "      <td>1</td>\n",
       "    </tr>\n",
       "    <tr>\n",
       "      <td>2</td>\n",
       "      <td>3</td>\n",
       "      <td>3300000.0</td>\n",
       "      <td>1</td>\n",
       "      <td>64</td>\n",
       "      <td>105.0</td>\n",
       "      <td>13092000</td>\n",
       "      <td>Drama</td>\n",
       "      <td>1</td>\n",
       "      <td>2</td>\n",
       "    </tr>\n",
       "    <tr>\n",
       "      <td>3</td>\n",
       "      <td>4</td>\n",
       "      <td>1200000.0</td>\n",
       "      <td>5</td>\n",
       "      <td>3</td>\n",
       "      <td>122.0</td>\n",
       "      <td>16000000</td>\n",
       "      <td>Thriller</td>\n",
       "      <td>1</td>\n",
       "      <td>3</td>\n",
       "    </tr>\n",
       "    <tr>\n",
       "      <td>4</td>\n",
       "      <td>5</td>\n",
       "      <td>0.0</td>\n",
       "      <td>8</td>\n",
       "      <td>1</td>\n",
       "      <td>118.0</td>\n",
       "      <td>3923970</td>\n",
       "      <td>Action</td>\n",
       "      <td>0</td>\n",
       "      <td>4</td>\n",
       "    </tr>\n",
       "  </tbody>\n",
       "</table>\n",
       "</div>"
      ],
      "text/plain": [
       "   id      budget  original_language  popularity  runtime   revenue  genres_1  \\\n",
       "0   1  14000000.0                  1           6     93.0  12314651    Comedy   \n",
       "1   2  40000000.0                  1           8    113.0  95149435    Comedy   \n",
       "2   3   3300000.0                  1          64    105.0  13092000     Drama   \n",
       "3   4   1200000.0                  5           3    122.0  16000000  Thriller   \n",
       "4   5         0.0                  8           1    118.0   3923970    Action   \n",
       "\n",
       "   dayOfWeek  genres  \n",
       "0          1       1  \n",
       "1          1       1  \n",
       "2          1       2  \n",
       "3          1       3  \n",
       "4          0       4  "
      ]
     },
     "execution_count": 77,
     "metadata": {},
     "output_type": "execute_result"
    }
   ],
   "source": [
    "genres = train['genres_1'].map(Dict)\n",
    "train['genres'] = genres\n",
    "train.head()"
   ]
  },
  {
   "cell_type": "code",
   "execution_count": 78,
   "metadata": {},
   "outputs": [],
   "source": [
    "train.drop(columns=['genres_1'],inplace=True)"
   ]
  },
  {
   "cell_type": "code",
   "execution_count": 79,
   "metadata": {},
   "outputs": [
    {
     "data": {
      "text/html": [
       "<div>\n",
       "<style scoped>\n",
       "    .dataframe tbody tr th:only-of-type {\n",
       "        vertical-align: middle;\n",
       "    }\n",
       "\n",
       "    .dataframe tbody tr th {\n",
       "        vertical-align: top;\n",
       "    }\n",
       "\n",
       "    .dataframe thead th {\n",
       "        text-align: right;\n",
       "    }\n",
       "</style>\n",
       "<table border=\"1\" class=\"dataframe\">\n",
       "  <thead>\n",
       "    <tr style=\"text-align: right;\">\n",
       "      <th></th>\n",
       "      <th>id</th>\n",
       "      <th>budget</th>\n",
       "      <th>original_language</th>\n",
       "      <th>popularity</th>\n",
       "      <th>runtime</th>\n",
       "      <th>revenue</th>\n",
       "      <th>dayOfWeek</th>\n",
       "      <th>genres</th>\n",
       "    </tr>\n",
       "  </thead>\n",
       "  <tbody>\n",
       "    <tr>\n",
       "      <td>0</td>\n",
       "      <td>1</td>\n",
       "      <td>14000000.0</td>\n",
       "      <td>1</td>\n",
       "      <td>6</td>\n",
       "      <td>93.0</td>\n",
       "      <td>12314651</td>\n",
       "      <td>1</td>\n",
       "      <td>1</td>\n",
       "    </tr>\n",
       "    <tr>\n",
       "      <td>1</td>\n",
       "      <td>2</td>\n",
       "      <td>40000000.0</td>\n",
       "      <td>1</td>\n",
       "      <td>8</td>\n",
       "      <td>113.0</td>\n",
       "      <td>95149435</td>\n",
       "      <td>1</td>\n",
       "      <td>1</td>\n",
       "    </tr>\n",
       "    <tr>\n",
       "      <td>2</td>\n",
       "      <td>3</td>\n",
       "      <td>3300000.0</td>\n",
       "      <td>1</td>\n",
       "      <td>64</td>\n",
       "      <td>105.0</td>\n",
       "      <td>13092000</td>\n",
       "      <td>1</td>\n",
       "      <td>2</td>\n",
       "    </tr>\n",
       "    <tr>\n",
       "      <td>3</td>\n",
       "      <td>4</td>\n",
       "      <td>1200000.0</td>\n",
       "      <td>5</td>\n",
       "      <td>3</td>\n",
       "      <td>122.0</td>\n",
       "      <td>16000000</td>\n",
       "      <td>1</td>\n",
       "      <td>3</td>\n",
       "    </tr>\n",
       "    <tr>\n",
       "      <td>4</td>\n",
       "      <td>5</td>\n",
       "      <td>0.0</td>\n",
       "      <td>8</td>\n",
       "      <td>1</td>\n",
       "      <td>118.0</td>\n",
       "      <td>3923970</td>\n",
       "      <td>0</td>\n",
       "      <td>4</td>\n",
       "    </tr>\n",
       "  </tbody>\n",
       "</table>\n",
       "</div>"
      ],
      "text/plain": [
       "   id      budget  original_language  popularity  runtime   revenue  \\\n",
       "0   1  14000000.0                  1           6     93.0  12314651   \n",
       "1   2  40000000.0                  1           8    113.0  95149435   \n",
       "2   3   3300000.0                  1          64    105.0  13092000   \n",
       "3   4   1200000.0                  5           3    122.0  16000000   \n",
       "4   5         0.0                  8           1    118.0   3923970   \n",
       "\n",
       "   dayOfWeek  genres  \n",
       "0          1       1  \n",
       "1          1       1  \n",
       "2          1       2  \n",
       "3          1       3  \n",
       "4          0       4  "
      ]
     },
     "execution_count": 79,
     "metadata": {},
     "output_type": "execute_result"
    }
   ],
   "source": [
    "train.head()"
   ]
  },
  {
   "cell_type": "code",
   "execution_count": 80,
   "metadata": {},
   "outputs": [
    {
     "data": {
      "text/plain": [
       "-0.6966613762560205"
      ]
     },
     "execution_count": 80,
     "metadata": {},
     "output_type": "execute_result"
    }
   ],
   "source": [
    "from sklearn.preprocessing import power_transform\n",
    "train['budget'] = power_transform(train[['budget']], method='yeo-johnson')\n",
    "train['budget'].skew()"
   ]
  },
  {
   "cell_type": "code",
   "execution_count": 81,
   "metadata": {},
   "outputs": [],
   "source": [
    "train['budget'] = power_transform(train[['budget']], method='yeo-johnson')"
   ]
  },
  {
   "cell_type": "code",
   "execution_count": 82,
   "metadata": {},
   "outputs": [
    {
     "data": {
      "text/plain": [
       "-0.07961844159618033"
      ]
     },
     "execution_count": 82,
     "metadata": {},
     "output_type": "execute_result"
    }
   ],
   "source": [
    "from sklearn.preprocessing import power_transform\n",
    "train['revenue'] = power_transform(train[['revenue']], method='yeo-johnson')\n",
    "train['revenue'].skew()"
   ]
  },
  {
   "cell_type": "code",
   "execution_count": 83,
   "metadata": {},
   "outputs": [],
   "source": [
    "train['revenue'] = power_transform(train[['revenue']], method='yeo-johnson')"
   ]
  },
  {
   "cell_type": "code",
   "execution_count": 84,
   "metadata": {},
   "outputs": [],
   "source": [
    "targets = train['revenue']\n",
    "train.drop(columns=['revenue'], inplace=True)"
   ]
  },
  {
   "cell_type": "code",
   "execution_count": 85,
   "metadata": {},
   "outputs": [
    {
     "name": "stdout",
     "output_type": "stream",
     "text": [
      "(2091, 7)\n",
      "(897, 7)\n"
     ]
    }
   ],
   "source": [
    "from sklearn.model_selection import train_test_split\n",
    "X_train, X_test, y_train, y_test = train_test_split(train, targets, test_size=0.3, random_state=9)\n",
    "print(X_train.shape)\n",
    "print(X_test.shape)"
   ]
  },
  {
   "cell_type": "code",
   "execution_count": 86,
   "metadata": {},
   "outputs": [],
   "source": [
    "from sklearn.ensemble import RandomForestRegressor"
   ]
  },
  {
   "cell_type": "code",
   "execution_count": 87,
   "metadata": {},
   "outputs": [
    {
     "data": {
      "text/plain": [
       "RandomForestRegressor(bootstrap=True, criterion='mse', max_depth=None,\n",
       "                      max_features='auto', max_leaf_nodes=None,\n",
       "                      min_impurity_decrease=0.0, min_impurity_split=None,\n",
       "                      min_samples_leaf=1, min_samples_split=2,\n",
       "                      min_weight_fraction_leaf=0.0, n_estimators=10,\n",
       "                      n_jobs=None, oob_score=False, random_state=0, verbose=0,\n",
       "                      warm_start=False)"
      ]
     },
     "execution_count": 87,
     "metadata": {},
     "output_type": "execute_result"
    }
   ],
   "source": [
    "regressor = RandomForestRegressor(n_estimators=10, random_state=0)\n",
    "regressor.fit(X_train, y_train)"
   ]
  },
  {
   "cell_type": "code",
   "execution_count": 88,
   "metadata": {},
   "outputs": [
    {
     "data": {
      "text/plain": [
       "0.06180667712917034"
      ]
     },
     "execution_count": 88,
     "metadata": {},
     "output_type": "execute_result"
    }
   ],
   "source": [
    "from sklearn.metrics import mean_squared_error\n",
    "train_pred = regressor.predict(X_train)\n",
    "mean_squared_error(y_train, train_pred)"
   ]
  },
  {
   "cell_type": "code",
   "execution_count": 89,
   "metadata": {},
   "outputs": [
    {
     "data": {
      "text/plain": [
       "0.3776101964684705"
      ]
     },
     "execution_count": 89,
     "metadata": {},
     "output_type": "execute_result"
    }
   ],
   "source": [
    "from sklearn.metrics import mean_squared_error\n",
    "\n",
    "y_pred = regressor.predict(X_test)\n",
    "mean_squared_error(y_test, y_pred)"
   ]
  },
  {
   "cell_type": "code",
   "execution_count": 90,
   "metadata": {},
   "outputs": [
    {
     "data": {
      "image/png": "[encoded data removed]",
      "text/plain": [
       "<Figure size 432x288 with 1 Axes>"
      ]
     },
     "metadata": {
      "needs_background": "light"
     },
     "output_type": "display_data"
    }
   ],
   "source": [
    "importances =regressor.feature_importances_\n",
    "#Visalize feature importances\n",
    "# Sort feature importances in descending order\n",
    "indices = np.argsort(importances)[::-1]\n",
    "# Rearrange feature names so they match the sorted feature importances\n",
    "names = [X_train.columns[i] for i in indices]\n",
    "# Create plot\n",
    "plt.figure()\n",
    "# Create plot title\n",
    "plt.title(\"Feature Importance\")\n",
    "# Add bars\n",
    "plt.bar(range(X_train.shape[1]), importances[indices])\n",
    "# Add feature names as x-axis labels\n",
    "plt.xticks(range(X_train.shape[1]), names, rotation=90)\n",
    "# Show plot\n",
    "plt.show()"
   ]
  }
 ],
 "metadata": {
  "kernelspec": {
   "display_name": "Python 3",
   "language": "python",
   "name": "python3"
  },
  "language_info": {
   "codemirror_mode": {
    "name": "ipython",
    "version": 3
   },
   "file_extension": ".py",
   "mimetype": "text/x-python",
   "name": "python",
   "nbconvert_exporter": "python",
   "pygments_lexer": "ipython3",
   "version": "3.7.3"
  }
 },
 "nbformat": 4,
 "nbformat_minor": 4
}
